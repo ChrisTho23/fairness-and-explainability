{
 "cells": [
  {
   "cell_type": "markdown",
   "metadata": {},
   "source": [
    "# Permutation importance and XPER for blackbox model"
   ]
  },
  {
   "cell_type": "markdown",
   "metadata": {},
   "source": [
    "## Imports"
   ]
  },
  {
   "cell_type": "code",
   "execution_count": 14,
   "metadata": {},
   "outputs": [],
   "source": [
    "import pandas as pd\n",
    "import numpy as np\n",
    "import matplotlib.pyplot as plt\n",
    "from sklearn.model_selection import train_test_split\n",
    "from sklearn.metrics import accuracy_score\n",
    "from sklearn.inspection import permutation_importance\n",
    "import joblib"
   ]
  },
  {
   "cell_type": "markdown",
   "metadata": {},
   "source": [
    "## Load data from ../Dataset"
   ]
  },
  {
   "cell_type": "code",
   "execution_count": 15,
   "metadata": {},
   "outputs": [],
   "source": [
    "df = pd.read_csv('../Dataset/df_processed.csv')"
   ]
  },
  {
   "cell_type": "code",
   "execution_count": 16,
   "metadata": {},
   "outputs": [
    {
     "data": {
      "text/html": [
       "<div>\n",
       "<style scoped>\n",
       "    .dataframe tbody tr th:only-of-type {\n",
       "        vertical-align: middle;\n",
       "    }\n",
       "\n",
       "    .dataframe tbody tr th {\n",
       "        vertical-align: top;\n",
       "    }\n",
       "\n",
       "    .dataframe thead th {\n",
       "        text-align: right;\n",
       "    }\n",
       "</style>\n",
       "<table border=\"1\" class=\"dataframe\">\n",
       "  <thead>\n",
       "    <tr style=\"text-align: right;\">\n",
       "      <th></th>\n",
       "      <th>Gender</th>\n",
       "      <th>EthnicGroup</th>\n",
       "      <th>ParentEduc</th>\n",
       "      <th>LunchType</th>\n",
       "      <th>TestPrep</th>\n",
       "      <th>ParentMaritalStatus</th>\n",
       "      <th>PracticeSport</th>\n",
       "      <th>IsFirstChild</th>\n",
       "      <th>NrSiblings</th>\n",
       "      <th>School_Bus</th>\n",
       "      <th>WklyStudyHours</th>\n",
       "      <th>Grade</th>\n",
       "    </tr>\n",
       "  </thead>\n",
       "  <tbody>\n",
       "    <tr>\n",
       "      <th>0</th>\n",
       "      <td>female</td>\n",
       "      <td>group C</td>\n",
       "      <td>bachelor's degree</td>\n",
       "      <td>standard</td>\n",
       "      <td>0</td>\n",
       "      <td>married</td>\n",
       "      <td>regularly</td>\n",
       "      <td>1</td>\n",
       "      <td>3</td>\n",
       "      <td>1</td>\n",
       "      <td>Less than 5 hours</td>\n",
       "      <td>0</td>\n",
       "    </tr>\n",
       "    <tr>\n",
       "      <th>1</th>\n",
       "      <td>female</td>\n",
       "      <td>group C</td>\n",
       "      <td>some college</td>\n",
       "      <td>standard</td>\n",
       "      <td>0</td>\n",
       "      <td>married</td>\n",
       "      <td>sometimes</td>\n",
       "      <td>1</td>\n",
       "      <td>0</td>\n",
       "      <td>1</td>\n",
       "      <td>Between 5-10 hours</td>\n",
       "      <td>1</td>\n",
       "    </tr>\n",
       "    <tr>\n",
       "      <th>2</th>\n",
       "      <td>female</td>\n",
       "      <td>group B</td>\n",
       "      <td>master's degree</td>\n",
       "      <td>standard</td>\n",
       "      <td>0</td>\n",
       "      <td>single</td>\n",
       "      <td>sometimes</td>\n",
       "      <td>1</td>\n",
       "      <td>4</td>\n",
       "      <td>1</td>\n",
       "      <td>Less than 5 hours</td>\n",
       "      <td>1</td>\n",
       "    </tr>\n",
       "    <tr>\n",
       "      <th>3</th>\n",
       "      <td>male</td>\n",
       "      <td>group A</td>\n",
       "      <td>associate's degree</td>\n",
       "      <td>free/reduced</td>\n",
       "      <td>0</td>\n",
       "      <td>married</td>\n",
       "      <td>never</td>\n",
       "      <td>0</td>\n",
       "      <td>1</td>\n",
       "      <td>1</td>\n",
       "      <td>Between 5-10 hours</td>\n",
       "      <td>0</td>\n",
       "    </tr>\n",
       "    <tr>\n",
       "      <th>4</th>\n",
       "      <td>male</td>\n",
       "      <td>group C</td>\n",
       "      <td>some college</td>\n",
       "      <td>standard</td>\n",
       "      <td>0</td>\n",
       "      <td>married</td>\n",
       "      <td>sometimes</td>\n",
       "      <td>1</td>\n",
       "      <td>0</td>\n",
       "      <td>1</td>\n",
       "      <td>Between 5-10 hours</td>\n",
       "      <td>1</td>\n",
       "    </tr>\n",
       "  </tbody>\n",
       "</table>\n",
       "</div>"
      ],
      "text/plain": [
       "   Gender EthnicGroup          ParentEduc     LunchType  TestPrep  \\\n",
       "0  female     group C   bachelor's degree      standard         0   \n",
       "1  female     group C        some college      standard         0   \n",
       "2  female     group B     master's degree      standard         0   \n",
       "3    male     group A  associate's degree  free/reduced         0   \n",
       "4    male     group C        some college      standard         0   \n",
       "\n",
       "  ParentMaritalStatus PracticeSport  IsFirstChild  NrSiblings  School_Bus  \\\n",
       "0             married     regularly             1           3           1   \n",
       "1             married     sometimes             1           0           1   \n",
       "2              single     sometimes             1           4           1   \n",
       "3             married         never             0           1           1   \n",
       "4             married     sometimes             1           0           1   \n",
       "\n",
       "       WklyStudyHours  Grade  \n",
       "0   Less than 5 hours      0  \n",
       "1  Between 5-10 hours      1  \n",
       "2   Less than 5 hours      1  \n",
       "3  Between 5-10 hours      0  \n",
       "4  Between 5-10 hours      1  "
      ]
     },
     "execution_count": 16,
     "metadata": {},
     "output_type": "execute_result"
    }
   ],
   "source": [
    "df.head()"
   ]
  },
  {
   "cell_type": "markdown",
   "metadata": {},
   "source": [
    "## Split data"
   ]
  },
  {
   "cell_type": "code",
   "execution_count": 17,
   "metadata": {},
   "outputs": [],
   "source": [
    "# Create label and features\n",
    "X = df.drop('Grade', axis=1)\n",
    "y = df['Grade']"
   ]
  },
  {
   "cell_type": "code",
   "execution_count": 18,
   "metadata": {},
   "outputs": [],
   "source": [
    "# Create train, test, and validation data\n",
    "X_train, X_test, y_train, y_test = train_test_split(X, y, test_size=0.3, random_state=42)"
   ]
  },
  {
   "cell_type": "code",
   "execution_count": 19,
   "metadata": {},
   "outputs": [],
   "source": [
    "# Apply a numerical mapping for categorical columns\n",
    "categorical_mapping = {\n",
    "    'Gender': {'female': 0, 'male': 1},\n",
    "    'EthnicGroup': {'group A': 0, 'group B': 1, 'group C': 2, 'group D': 3, 'group E': 4},\n",
    "    'ParentEduc': {'some high school': 0, 'high school': 1, \"associate's degree\": 2, 'some college': 3, \"bachelor's degree\": 4, \"master's degree\": 5},\n",
    "    'LunchType': {'standard': 0, 'free/reduced': 1},\n",
    "    'ParentMaritalStatus': {'widowed': 0, 'divorced': 1, 'single': 2, 'married': 3},\n",
    "    'PracticeSport': {'sometimes': 0, 'regularly': 1, 'never': 2},\n",
    "    'WklyStudyHours': {'Less than 5 hours': 0, 'Between 5-10 hours': 1, 'More than 10 hours': 2}\n",
    "}\n",
    "\n",
    "columns_to_map = list(categorical_mapping.keys())\n",
    "X_train_whitebox = X_train.copy()\n",
    "X_test_whitebox = X_test.copy()\n",
    "X_train_whitebox[columns_to_map] = X_train_whitebox[columns_to_map].replace(categorical_mapping)\n",
    "X_test_whitebox[columns_to_map] = X_test_whitebox[columns_to_map].replace(categorical_mapping)"
   ]
  },
  {
   "cell_type": "markdown",
   "metadata": {},
   "source": [
    "## Load whitebox model"
   ]
  },
  {
   "cell_type": "code",
   "execution_count": 20,
   "metadata": {},
   "outputs": [],
   "source": [
    "# Load the model from the file\n",
    "model_filename = '..\\Models\\whitebox_model.pkl'\n",
    "model = joblib.load(model_filename)"
   ]
  },
  {
   "cell_type": "markdown",
   "metadata": {},
   "source": [
    "## Permutation importance"
   ]
  },
  {
   "cell_type": "code",
   "execution_count": 21,
   "metadata": {},
   "outputs": [],
   "source": [
    "# Calculate permutation importances using sklearn's permutation_importance\n",
    "result = permutation_importance(model, X_test_whitebox, y_test, n_repeats=30, random_state=0)"
   ]
  },
  {
   "cell_type": "code",
   "execution_count": 22,
   "metadata": {},
   "outputs": [
    {
     "data": {
      "image/png": "[encoded data removed]",
      "text/plain": [
       "<Figure size 700x350 with 1 Axes>"
      ]
     },
     "metadata": {},
     "output_type": "display_data"
    }
   ],
   "source": [
    "# Plot the feature importances\n",
    "sorted_idx = result.importances_mean.argsort()\n",
    "plt.barh(X_test.columns[sorted_idx], result.importances_mean[sorted_idx])\n",
    "plt.xlabel('Permutation Importance')\n",
    "plt.title('Feature Permutation Importance')\n",
    "plt.show()"
   ]
  },
  {
   "cell_type": "markdown",
   "metadata": {},
   "source": [
    "## XPER"
   ]
  },
  {
   "cell_type": "code",
   "execution_count": null,
   "metadata": {},
   "outputs": [],
   "source": [
    "import XPER\n",
    "from XPER.compute.Performance import ModelPerformance\n",
    "from XPER.viz.Visualisation import visualizationClass as viz"
   ]
  },
  {
   "cell_type": "code",
   "execution_count": null,
   "metadata": {},
   "outputs": [],
   "source": [
    "# Define the evaluation metric(s) to be used\n",
    "XPER = ModelPerformance(X_train_whitebox, y_train, X_test_whitebox, y_test, model, sample_size=200)\n",
    "\n",
    "# Evaluate the model performance using the specified metric(s)\n",
    "PM = XPER.evaluate([\"AUC\"])\n",
    "\n",
    "# Print the performance metrics\n",
    "print(\"Performance Metrics: \", round(PM, 3))"
   ]
  },
  {
   "cell_type": "code",
   "execution_count": null,
   "metadata": {},
   "outputs": [],
   "source": [
    "model.predict_proba(X_test_whitebox)"
   ]
  },
  {
   "cell_type": "code",
   "execution_count": null,
   "metadata": {},
   "outputs": [],
   "source": [
    "XPER_values = XPER.calculate_XPER_values([\"AUC\"], N_coalition_sampled=1000)"
   ]
  },
  {
   "cell_type": "code",
   "execution_count": null,
   "metadata": {},
   "outputs": [],
   "source": [
    "labels = list(df.drop(columns='Grade').columns)\n",
    "viz.bar_plot(XPER_values=XPER_values, X_test=pd.DataFrame(X_test), labels=labels, p=11, percentage=True)"
   ]
  },
  {
   "cell_type": "markdown",
   "metadata": {},
   "source": [
    "For your information, the XPER library cannot run with any model. Here our model is a GAM built with the pyGAM library. The predict_proba method with the model only returns a 1d-array vs a 2d-array for sklearn models. Therefore XPER won't run for our whitebox model."
   ]
  }
 ],
 "metadata": {
  "kernelspec": {
   "display_name": "fairexplain",
   "language": "python",
   "name": "python3"
  },
  "language_info": {
   "codemirror_mode": {
    "name": "ipython",
    "version": 3
   },
   "file_extension": ".py",
   "mimetype": "text/x-python",
   "name": "python",
   "nbconvert_exporter": "python",
   "pygments_lexer": "ipython3",
   "version": "3.11.4"
  }
 },
 "nbformat": 4,
 "nbformat_minor": 2
}
