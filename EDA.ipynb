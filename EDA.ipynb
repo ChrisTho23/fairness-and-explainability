{
 "cells": [
  {
   "cell_type": "code",
   "execution_count": 1,
   "metadata": {},
   "outputs": [],
   "source": [
    "import pandas as pd\n",
    "import numpy as np \n",
    "import matplotlib.pyplot as plt\n",
    "import seaborn as sns\n",
    "import os\n",
    "import json"
   ]
  },
  {
   "cell_type": "markdown",
   "metadata": {},
   "source": [
    "# Load data from Kaggle"
   ]
  },
  {
   "cell_type": "code",
   "execution_count": 11,
   "metadata": {},
   "outputs": [
    {
     "name": "stdout",
     "output_type": "stream",
     "text": [
      "Warning: Your Kaggle API key is readable by other users on this system! To fix this, you can run 'chmod 600 /Users/Christophe/.kaggle/kaggle.json'\n",
      "Downloading spotify-top-hit-playlist-2010-2022.zip to /Users/Christophe/X-HEC/fairness-and-explainability\n",
      "100%|█████████████████████████████████████████| 210k/210k [00:00<00:00, 887kB/s]\n",
      "100%|█████████████████████████████████████████| 210k/210k [00:00<00:00, 882kB/s]\n",
      "Archive:  spotify-top-hit-playlist-2010-2022.zip\n",
      "  inflating: playlist_2010to2022.csv  \n"
     ]
    }
   ],
   "source": [
    "# Before running this line creata a Kaggle token, download the resulting kaggle.json and place the file in Users/\"User\"/.kaggle/kaggle.json \n",
    "!kaggle datasets download -d josephinelsy/spotify-top-hit-playlist-2010-2022\n",
    "!unzip spotify-top-hit-playlist-2010-2022.zip\n",
    "os.remove(\"spotify-top-hit-playlist-2010-2022.zip\")"
   ]
  },
  {
   "cell_type": "markdown",
   "metadata": {},
   "source": [
    "# Import data"
   ]
  },
  {
   "cell_type": "code",
   "execution_count": 13,
   "metadata": {},
   "outputs": [],
   "source": [
    "data = pd.read_csv(\"playlist_2010to2022.csv\")"
   ]
  },
  {
   "cell_type": "code",
   "execution_count": 15,
   "metadata": {},
   "outputs": [],
   "source": [
    "os.remove(\"playlist_2010to2022.csv\")"
   ]
  },
  {
   "cell_type": "markdown",
   "metadata": {},
   "source": [
    "# EDA"
   ]
  },
  {
   "cell_type": "code",
   "execution_count": null,
   "metadata": {},
   "outputs": [],
   "source": []
  }
 ],
 "metadata": {
  "kernelspec": {
   "display_name": "fairexplain",
   "language": "python",
   "name": "python3"
  },
  "language_info": {
   "codemirror_mode": {
    "name": "ipython",
    "version": 3
   },
   "file_extension": ".py",
   "mimetype": "text/x-python",
   "name": "python",
   "nbconvert_exporter": "python",
   "pygments_lexer": "ipython3",
   "version": "3.10.13"
  }
 },
 "nbformat": 4,
 "nbformat_minor": 2
}
