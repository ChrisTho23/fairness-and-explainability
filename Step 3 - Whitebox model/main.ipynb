{
 "cells": [
  {
   "cell_type": "markdown",
   "metadata": {},
   "source": [
    "## Step 3 - Predictive performance of your blackbox model and white-box model implementation\n",
    "\n",
    "Content of this third step :\n",
    "1. Analyze the predictive performance of our blackbox model \n",
    "2. Implement a whitebox model \n",
    "3. Compare the blackbox model with the performance of whitebox models"
   ]
  },
  {
   "cell_type": "code",
   "execution_count": 1,
   "metadata": {},
   "outputs": [
    {
     "name": "stdout",
     "output_type": "stream",
     "text": [
      "Defaulting to user installation because normal site-packages is not writeable\n",
      "Requirement already satisfied: pygam in /Users/vitrac/Library/Python/3.8/lib/python/site-packages (from -r ../requirements.txt (line 1)) (0.9.0)\n",
      "Requirement already satisfied: hyperopt in /Users/vitrac/Library/Python/3.8/lib/python/site-packages (from -r ../requirements.txt (line 2)) (0.2.7)\n",
      "Requirement already satisfied: PyALE in /Users/vitrac/Library/Python/3.8/lib/python/site-packages (from -r ../requirements.txt (line 3)) (1.1.3)\n",
      "Requirement already satisfied: progressbar2<5.0.0,>=4.2.0 in /Users/vitrac/Library/Python/3.8/lib/python/site-packages (from pygam->-r ../requirements.txt (line 1)) (4.2.0)\n",
      "Requirement already satisfied: scipy<2.0.0,>=1.10.1 in /Users/vitrac/Library/Python/3.8/lib/python/site-packages (from pygam->-r ../requirements.txt (line 1)) (1.10.1)\n",
      "Requirement already satisfied: numpy<2.0.0,>=1.24.2 in /Users/vitrac/Library/Python/3.8/lib/python/site-packages (from pygam->-r ../requirements.txt (line 1)) (1.24.4)\n",
      "Requirement already satisfied: six in /Library/Developer/CommandLineTools/Library/Frameworks/Python3.framework/Versions/3.8/lib/python3.8/site-packages (from hyperopt->-r ../requirements.txt (line 2)) (1.15.0)\n",
      "Requirement already satisfied: tqdm in /Users/vitrac/Library/Python/3.8/lib/python/site-packages (from hyperopt->-r ../requirements.txt (line 2)) (4.64.1)\n",
      "Requirement already satisfied: networkx>=2.2 in /Users/vitrac/Library/Python/3.8/lib/python/site-packages (from hyperopt->-r ../requirements.txt (line 2)) (2.8.6)\n",
      "Requirement already satisfied: cloudpickle in /Users/vitrac/Library/Python/3.8/lib/python/site-packages (from hyperopt->-r ../requirements.txt (line 2)) (2.2.1)\n",
      "Requirement already satisfied: py4j in /Users/vitrac/Library/Python/3.8/lib/python/site-packages (from hyperopt->-r ../requirements.txt (line 2)) (0.10.9.7)\n",
      "Requirement already satisfied: future in /Users/vitrac/Library/Python/3.8/lib/python/site-packages (from hyperopt->-r ../requirements.txt (line 2)) (0.18.3)\n",
      "Requirement already satisfied: pandas in /Users/vitrac/Library/Python/3.8/lib/python/site-packages (from PyALE->-r ../requirements.txt (line 3)) (2.0.3)\n",
      "Requirement already satisfied: statsmodels in /Users/vitrac/Library/Python/3.8/lib/python/site-packages (from PyALE->-r ../requirements.txt (line 3)) (0.13.2)\n",
      "Requirement already satisfied: scikit-learn in /Users/vitrac/Library/Python/3.8/lib/python/site-packages (from PyALE->-r ../requirements.txt (line 3)) (1.3.1)\n",
      "Requirement already satisfied: matplotlib in /Users/vitrac/Library/Python/3.8/lib/python/site-packages (from PyALE->-r ../requirements.txt (line 3)) (3.7.3)\n",
      "Requirement already satisfied: python-utils>=3.0.0 in /Users/vitrac/Library/Python/3.8/lib/python/site-packages (from progressbar2<5.0.0,>=4.2.0->pygam->-r ../requirements.txt (line 1)) (3.8.1)\n",
      "Requirement already satisfied: pyparsing>=2.3.1 in /Users/vitrac/Library/Python/3.8/lib/python/site-packages (from matplotlib->PyALE->-r ../requirements.txt (line 3)) (2.4.7)\n",
      "Requirement already satisfied: kiwisolver>=1.0.1 in /Users/vitrac/Library/Python/3.8/lib/python/site-packages (from matplotlib->PyALE->-r ../requirements.txt (line 3)) (1.4.4)\n",
      "Requirement already satisfied: packaging>=20.0 in /Users/vitrac/Library/Python/3.8/lib/python/site-packages (from matplotlib->PyALE->-r ../requirements.txt (line 3)) (21.3)\n",
      "Requirement already satisfied: contourpy>=1.0.1 in /Users/vitrac/Library/Python/3.8/lib/python/site-packages (from matplotlib->PyALE->-r ../requirements.txt (line 3)) (1.1.1)\n",
      "Requirement already satisfied: importlib-resources>=3.2.0 in /Users/vitrac/Library/Python/3.8/lib/python/site-packages (from matplotlib->PyALE->-r ../requirements.txt (line 3)) (5.12.0)\n",
      "Requirement already satisfied: cycler>=0.10 in /Users/vitrac/Library/Python/3.8/lib/python/site-packages (from matplotlib->PyALE->-r ../requirements.txt (line 3)) (0.10.0)\n",
      "Requirement already satisfied: python-dateutil>=2.7 in /Users/vitrac/Library/Python/3.8/lib/python/site-packages (from matplotlib->PyALE->-r ../requirements.txt (line 3)) (2.8.2)\n",
      "Requirement already satisfied: fonttools>=4.22.0 in /Users/vitrac/Library/Python/3.8/lib/python/site-packages (from matplotlib->PyALE->-r ../requirements.txt (line 3)) (4.37.3)\n",
      "Requirement already satisfied: pillow>=6.2.0 in /Users/vitrac/Library/Python/3.8/lib/python/site-packages (from matplotlib->PyALE->-r ../requirements.txt (line 3)) (9.5.0)\n",
      "Requirement already satisfied: pytz>=2020.1 in /Users/vitrac/Library/Python/3.8/lib/python/site-packages (from pandas->PyALE->-r ../requirements.txt (line 3)) (2022.2.1)\n",
      "Requirement already satisfied: tzdata>=2022.1 in /Users/vitrac/Library/Python/3.8/lib/python/site-packages (from pandas->PyALE->-r ../requirements.txt (line 3)) (2023.3)\n",
      "Requirement already satisfied: joblib>=1.1.1 in /Users/vitrac/Library/Python/3.8/lib/python/site-packages (from scikit-learn->PyALE->-r ../requirements.txt (line 3)) (1.3.2)\n",
      "Requirement already satisfied: threadpoolctl>=2.0.0 in /Users/vitrac/Library/Python/3.8/lib/python/site-packages (from scikit-learn->PyALE->-r ../requirements.txt (line 3)) (3.2.0)\n",
      "Requirement already satisfied: patsy>=0.5.2 in /Users/vitrac/Library/Python/3.8/lib/python/site-packages (from statsmodels->PyALE->-r ../requirements.txt (line 3)) (0.5.2)\n",
      "Requirement already satisfied: zipp>=3.1.0 in /Users/vitrac/Library/Python/3.8/lib/python/site-packages (from importlib-resources>=3.2.0->matplotlib->PyALE->-r ../requirements.txt (line 3)) (3.15.0)\n",
      "Requirement already satisfied: typing-extensions>3.10.0.2 in /Users/vitrac/Library/Python/3.8/lib/python/site-packages (from python-utils>=3.0.0->progressbar2<5.0.0,>=4.2.0->pygam->-r ../requirements.txt (line 1)) (4.8.0)\n",
      "\n",
      "\u001b[1m[\u001b[0m\u001b[34;49mnotice\u001b[0m\u001b[1;39;49m]\u001b[0m\u001b[39;49m A new release of pip available: \u001b[0m\u001b[31;49m22.2.2\u001b[0m\u001b[39;49m -> \u001b[0m\u001b[32;49m23.3.1\u001b[0m\n",
      "\u001b[1m[\u001b[0m\u001b[34;49mnotice\u001b[0m\u001b[1;39;49m]\u001b[0m\u001b[39;49m To update, run: \u001b[0m\u001b[32;49m/Library/Developer/CommandLineTools/usr/bin/python3 -m pip install --upgrade pip\u001b[0m\n",
      "Note: you may need to restart the kernel to use updated packages.\n"
     ]
    }
   ],
   "source": [
    "pip install -r ../requirements.txt"
   ]
  },
  {
   "cell_type": "code",
   "execution_count": 2,
   "metadata": {},
   "outputs": [],
   "source": [
    "# Import statements\n",
    "import joblib\n",
    "import numpy as np\n",
    "import pandas as pd\n",
    "import seaborn as sns\n",
    "import matplotlib.cm as cm\n",
    "import matplotlib.pyplot as plt\n",
    "\n",
    "from pygam import LogisticGAM, s,  f\n",
    "from sklearn.tree import DecisionTreeClassifier\n",
    "from sklearn.linear_model import LogisticRegression\n",
    "from hyperopt import fmin, tpe, hp, Trials, STATUS_OK\n",
    "from sklearn.model_selection import cross_val_score, train_test_split\n",
    "from sklearn.metrics import accuracy_score, precision_score, recall_score, f1_score, roc_auc_score, confusion_matrix"
   ]
  },
  {
   "cell_type": "markdown",
   "metadata": {},
   "source": [
    "### 1. Analyze the predictive performance of our blackbox model \n",
    "\n",
    "The chosen blackbox model is a catboost model, saved in this notebook. First, we load this catboost model.\n"
   ]
  },
  {
   "cell_type": "code",
   "execution_count": 3,
   "metadata": {},
   "outputs": [],
   "source": [
    "# Load dataset\n",
    "df = pd.read_csv('../Dataset/df_processed.csv')\n",
    "X = df.drop('Grade', axis=1).copy()\n",
    "y = df['Grade'].copy()\n",
    "X_train, X_test, y_train, y_test = train_test_split(X, y, test_size=0.3)"
   ]
  },
  {
   "cell_type": "code",
   "execution_count": 4,
   "metadata": {},
   "outputs": [],
   "source": [
    "# Load the model from the file\n",
    "model_filename = '../Models/blackbox_model.pkl'\n",
    "blackbox_model = joblib.load(model_filename)\n",
    "y_pred_blackbox = blackbox_model.predict(X_test)\n",
    "y_pred_blackbox_train = blackbox_model.predict(X_train)"
   ]
  },
  {
   "cell_type": "markdown",
   "metadata": {},
   "source": [
    "Let's now analyse the performances of this model."
   ]
  },
  {
   "cell_type": "code",
   "execution_count": 6,
   "metadata": {},
   "outputs": [
    {
     "name": "stdout",
     "output_type": "stream",
     "text": [
      "Evaluation metrics of the blackbox model :\n",
      "Accuracy train score :  65.53 %\n",
      "Precision train score :  76.89 %\n",
      "Recall train score :  18.12 %\n",
      "F1 train score :  29.330000000000002 %\n",
      "\n",
      "\n",
      "Accuracy test score :  66.51 %\n",
      "Precision test score :  78.21000000000001 %\n",
      "Recall test score :  18.490000000000002 %\n",
      "F1 test score :  29.909999999999997 %\n",
      "\n",
      "\n"
     ]
    },
    {
     "data": {
      "image/png": "[encoded data removed]",
      "text/plain": [
       "<Figure size 300x300 with 1 Axes>"
      ]
     },
     "metadata": {},
     "output_type": "display_data"
    },
    {
     "data": {
      "image/png": "[encoded data removed]",
      "text/plain": [
       "<Figure size 300x300 with 1 Axes>"
      ]
     },
     "metadata": {},
     "output_type": "display_data"
    }
   ],
   "source": [
    "print(\"Evaluation metrics of the blackbox model :\")\n",
    "\n",
    "# Printing the evaluation metrics of this blackbox catboost model for test set \n",
    "accuracy_catboost_train = accuracy_score(y_train, y_pred_blackbox_train)\n",
    "precision_catboost_train = precision_score(y_train, y_pred_blackbox_train)\n",
    "recall_catboost_train = recall_score(y_train, y_pred_blackbox_train)\n",
    "f1_catboost_train = f1_score(y_train, y_pred_blackbox_train)\n",
    "\n",
    "print('Accuracy train score : ', np.round(accuracy_catboost_train, 4)*100, '%')\n",
    "print('Precision train score : ', np.round(precision_catboost_train, 4)*100, '%')\n",
    "print('Recall train score : ', np.round(recall_catboost_train, 4)*100, '%')\n",
    "print('F1 train score : ', np.round(f1_catboost_train, 4)*100, '%')\n",
    "print('\\n')\n",
    "\n",
    "# Printing the evaluation metrics of this blackbox catboost model for train set\n",
    "accuracy_catboost_test = accuracy_score(y_test, y_pred_blackbox)\n",
    "precision_catboost_test = precision_score(y_test, y_pred_blackbox)\n",
    "recall_catboost_test = recall_score(y_test, y_pred_blackbox)\n",
    "f1_catboost_test = f1_score(y_test, y_pred_blackbox)\n",
    "\n",
    "print('Accuracy test score : ', np.round(accuracy_catboost_test, 4)*100, '%')\n",
    "print('Precision test score : ', np.round(precision_catboost_test, 4)*100, '%')\n",
    "print('Recall test score : ', np.round(recall_catboost_test, 4)*100, '%')\n",
    "print('F1 test score : ', np.round(f1_catboost_test, 4)*100, '%')\n",
    "print('\\n')\n",
    "\n",
    "# Plotting the confusion matrix\n",
    "plt.figure(figsize=(3, 3))\n",
    "cm = confusion_matrix(y_test, y_pred_blackbox)\n",
    "sns.heatmap(cm, annot=True, fmt='d', cmap='PiYG', cbar=False, annot_kws={\"size\": 10}, cbar_kws={\"shrink\": 0.5}, linewidths=0.5, linecolor='white')\n",
    "plt.xlabel('Predictions', fontsize=10)\n",
    "plt.ylabel('True label', fontsize=10)\n",
    "plt.title('Confusion Matrix\\n of the Blackbox model (test set)', fontsize=11)\n",
    "plt.show()\n",
    "\n",
    "# Plotting the confusion matrix\n",
    "plt.figure(figsize=(3, 3))\n",
    "cm = confusion_matrix(y_train, y_pred_blackbox_train)\n",
    "sns.heatmap(cm, annot=True, fmt='d', cmap='PiYG', cbar=False, annot_kws={\"size\": 10}, cbar_kws={\"shrink\": 0.5}, linewidths=0.5, linecolor='white')\n",
    "plt.xlabel('Predictions', fontsize=10)\n",
    "plt.ylabel('True label', fontsize=10)\n",
    "plt.title('Confusion Matrix\\n of the Blackbox model (train set)', fontsize=11)\n",
    "plt.show()\n"
   ]
  },
  {
   "cell_type": "markdown",
   "metadata": {},
   "source": [
    "**Blackbox model performance summary**\n",
    "\n",
    "For a threshold set at 0.5, its test accuracy remains fairly low, equal to 77.31%, meaning that around a third of individuals are misclassified. A closer look at the correlation matrix reveals that most of the test dataset's false predictions are due to false negatives (items predicted as 0 but whose true label is 1). Indeed, 19.18% of the test dataset are false negatives, for 3.5% false positives.\n",
    "\n",
    "So the performance of our blackbox models is not optimal, but the positive point that demonstrates that the hyperparameter tuning has certainly been well done is that the model doesn't seem to be overfitting. Accuracy, recall, precision and F1 scores are more or less the same for the train and the test set, guaranteeing consistent performance from our dataset-independent model blackbox."
   ]
  },
  {
   "cell_type": "markdown",
   "metadata": {},
   "source": [
    "### 2. Implement Withebox models\n",
    "\n",
    "In this step, we implement several model and keep the one having the best performances. For a model to be considered as a whitebox model, it needs two main characteristics : \n",
    "- The algorithm used is straightforward to understand, and we can clearly interpret how the input features are transformed into the output or target variable.\n",
    "- We can identify the most important features to predict the target variable, and those features are understandable.\n",
    "\n",
    "We mentionned in class 5 whitebox models easily interpretable. The one we can potentielly apply for our binary classification problem are the **Logistic Regression** (LR), **Decision Tree** (DT), **Generative Additive Models** (GAN), **Penalised Logistic Tree Regression** (PLTR). Let's implement several of them and keep the ones with the best performances to go further. Among the 5 white-box models studied in class, we implemented 3 of them to compare their performances : **Logistic Regression** (LR), **Decision Tree** (DT), **Generative Additive Models** (GAN)."
   ]
  },
  {
   "cell_type": "code",
   "execution_count": 7,
   "metadata": {},
   "outputs": [],
   "source": [
    "# Apply a numerical mapping for categorical columns\n",
    "categorical_mapping = {\n",
    "    'Gender': {'female': 0, 'male': 1},\n",
    "    'EthnicGroup': {'group A': 0, 'group B': 1, 'group C': 2, 'group D': 3, 'group E': 4},\n",
    "    'ParentEduc': {'some high school': 0, 'high school': 1, \"associate's degree\": 2, 'some college': 3, \"bachelor's degree\": 4, \"master's degree\": 5},\n",
    "    'LunchType': {'standard': 0, 'free/reduced': 1},\n",
    "    'ParentMaritalStatus': {'widowed': 0, 'divorced': 1, 'single': 2, 'married': 3},\n",
    "    'PracticeSport': {'sometimes': 0, 'regularly': 1, 'never': 2},\n",
    "    'WklyStudyHours': {'Less than 5 hours': 0, 'Between 5-10 hours': 1, 'More than 10 hours': 2}\n",
    "}\n",
    "\n",
    "columns_to_map = list(categorical_mapping.keys())\n",
    "X_train_whitebox = X_train.copy()\n",
    "X_test_whitebox = X_test.copy()\n",
    "X_train_whitebox[columns_to_map] = X_train_whitebox[columns_to_map].replace(categorical_mapping)\n",
    "X_test_whitebox[columns_to_map] = X_test_whitebox[columns_to_map].replace(categorical_mapping)"
   ]
  },
  {
   "cell_type": "code",
   "execution_count": 8,
   "metadata": {},
   "outputs": [],
   "source": [
    "# Empty dataframe to store the results of our whitebox models\n",
    "df_whitebox_results = pd.DataFrame(columns=['Model name', 'Model parameters', 'Accuracy', 'Precision', 'Recall', 'F1 Score'])"
   ]
  },
  {
   "cell_type": "markdown",
   "metadata": {},
   "source": [
    "##### a. Whitebox model 1 : Logistic Regression"
   ]
  },
  {
   "cell_type": "code",
   "execution_count": 9,
   "metadata": {},
   "outputs": [],
   "source": [
    "# 1 - Implement logistic Regression \n",
    "logreg = LogisticRegression()\n",
    "logreg.fit(X_train_whitebox, y_train)\n",
    "y_pred_logreg = logreg.predict_proba(X_test_whitebox)[:, 1]\n",
    "y_pred_logreg = (y_pred_logreg > 0.5).astype(int)\n",
    "\n",
    "# Compute evaluation metrics \n",
    "accuracy_logreg = accuracy_score(y_test, y_pred_logreg)\n",
    "precision_logreg = precision_score(y_test, y_pred_logreg)\n",
    "recall_logreg = recall_score(y_test, y_pred_logreg)\n",
    "f1_logreg = f1_score(y_test, y_pred_logreg)\n",
    "\n",
    "# Append the results to df_whitebox_results\n",
    "results_dict_logistic = {\n",
    "    'Model name': ['Logistic Regression'], 'Model parameters': [logreg.get_params()],\n",
    "    'Accuracy': [accuracy_logreg], 'Precision': [precision_logreg], 'Recall': [recall_logreg], 'F1 Score': [f1_logreg]\n",
    "    }\n",
    "df_whitebox_results = pd.concat([df_whitebox_results, pd.DataFrame(results_dict_logistic)], ignore_index=True)"
   ]
  },
  {
   "cell_type": "markdown",
   "metadata": {},
   "source": [
    "##### b. Whitebox model 2 : Decision Tree"
   ]
  },
  {
   "cell_type": "code",
   "execution_count": 10,
   "metadata": {},
   "outputs": [],
   "source": [
    "# 2 - Implement Decision Tree - Without hyperparameters tuning\n",
    "decision_tree1 = DecisionTreeClassifier()\n",
    "decision_tree1.fit(X_train_whitebox, y_train)\n",
    "y_pred_dt1 = decision_tree1.predict(X_test_whitebox)\n",
    "\n",
    "# Calculate evaluation metrics for classification\n",
    "accuracy_dt1 = accuracy_score(y_test, y_pred_dt1)\n",
    "precision_dt1 = precision_score(y_test, y_pred_dt1)\n",
    "recall_dt1 = recall_score(y_test, y_pred_dt1)\n",
    "f1_dt1 = f1_score(y_test, y_pred_dt1)\n",
    "\n",
    "# Append the results to df_whitebox_results\n",
    "results_dict_dt = {\n",
    "    'Model name': ['Decision Tree - without Tuning'], 'Model parameters': [decision_tree1.get_params()],\n",
    "    'Accuracy': [accuracy_dt1], 'Precision': [precision_dt1], 'Recall': [recall_dt1], 'F1 Score': [f1_dt1]\n",
    "    }\n",
    "df_whitebox_results = pd.concat([df_whitebox_results, pd.DataFrame(results_dict_dt)], ignore_index=True)"
   ]
  },
  {
   "cell_type": "markdown",
   "metadata": {},
   "source": [
    "In next step with apply a bayesian hyperparameters tuning to tune the parameters of the decision tree model."
   ]
  },
  {
   "cell_type": "code",
   "execution_count": 11,
   "metadata": {},
   "outputs": [
    {
     "name": "stdout",
     "output_type": "stream",
     "text": [
      "  0%|          | 0/500 [00:00<?, ?trial/s, best loss=?]"
     ]
    },
    {
     "name": "stdout",
     "output_type": "stream",
     "text": [
      "100%|██████████| 500/500 [00:26<00:00, 19.04trial/s, best loss: -0.6828138551430695]\n",
      "Best Hyperparameters: {'max_depth': 8, 'max_leaf_nodes': 90, 'min_samples_leaf': 5, 'min_samples_split': 10, 'min_weight_fraction_leaf': 0.0007912459400853562}\n"
     ]
    }
   ],
   "source": [
    "# 2 bis - Implement Decision Tree - With hyperparameters tuning\n",
    "\n",
    "# Objective function to minimize\n",
    "def objective(params):\n",
    "    decision_tree = DecisionTreeClassifier(\n",
    "        max_depth=params['max_depth'],\n",
    "        min_samples_leaf=params['min_samples_leaf'],\n",
    "        max_leaf_nodes=params['max_leaf_nodes'],\n",
    "        min_samples_split=params['min_samples_split'],\n",
    "        min_weight_fraction_leaf=params['min_weight_fraction_leaf'],\n",
    "    )\n",
    "    score = -cross_val_score(decision_tree, X_train_whitebox, y_train, cv=5, scoring='accuracy').mean()\n",
    "    return score\n",
    "\n",
    "# Space for hyperparameters gridsearch\n",
    "space = {\n",
    "    'max_depth': hp.randint('max_depth', 1, 13),\n",
    "    'min_samples_leaf': hp.randint('min_samples_leaf', 1, 11),\n",
    "    'max_leaf_nodes': hp.randint('max_leaf_nodes', 2, 100),\n",
    "    'min_samples_split': hp.randint('min_samples_split', 2, 21),\n",
    "    'min_weight_fraction_leaf': hp.uniform('min_weight_fraction_leaf', 0.0, 0.5),\n",
    "}\n",
    "\n",
    "trials = Trials()\n",
    "best = fmin(fn=objective, space=space, algo=tpe.suggest, max_evals=500, trials=trials, rstate=np.random.default_rng(seed=42))\n",
    "print(\"Best Hyperparameters:\", best)\n",
    "\n",
    "best_max_depth = int(best['max_depth'])\n",
    "best_min_samples_leaf = int(best['min_samples_leaf'])\n",
    "best_max_leaf_nodes = int(best['max_leaf_nodes'])\n",
    "best_min_samples_split = int(best['min_samples_split'])\n",
    "best_min_weight_fraction_leaf = best['min_weight_fraction_leaf']\n",
    "\n",
    "# Fit the model and make predictions\n",
    "decision_tree2 = DecisionTreeClassifier(\n",
    "    max_depth=best_max_depth,\n",
    "    min_samples_leaf=best_min_samples_leaf,\n",
    "    max_leaf_nodes=best_max_leaf_nodes,\n",
    "    min_samples_split=best_min_samples_split,\n",
    "    min_weight_fraction_leaf=best_min_weight_fraction_leaf,\n",
    ")\n",
    "decision_tree2.fit(X_train_whitebox, y_train)\n",
    "y_pred_dt2 = decision_tree2.predict(X_test_whitebox)\n",
    "\n",
    "# Calculate evaluation metrics for classification\n",
    "accuracy_dt2 = accuracy_score(y_test, y_pred_dt2)\n",
    "precision_dt2 = precision_score(y_test, y_pred_dt2)\n",
    "recall_dt2 = recall_score(y_test, y_pred_dt2)\n",
    "f1_dt2 = f1_score(y_test, y_pred_dt2)\n",
    "\n",
    "# Append the results to df_whitebox_results\n",
    "results_dict_dt2 = {\n",
    "    'Model name': ['Decision Tree - with Tuning'], 'Model parameters': [decision_tree2.get_params()],\n",
    "    'Accuracy': [accuracy_dt2], 'Precision': [precision_dt2], 'Recall': [recall_dt2], 'F1 Score': [f1_dt2]\n",
    "    }\n",
    "df_whitebox_results = pd.concat([df_whitebox_results, pd.DataFrame(results_dict_dt2)], ignore_index=True)"
   ]
  },
  {
   "cell_type": "markdown",
   "metadata": {},
   "source": [
    "##### Whitebox model 3 : Generative additive model (GAM)\n",
    "\n",
    "\n",
    "GAN can be applied to **binary classification settings** as seen in the course (slide 39). The **additive logistic regression** will have the form : \n",
    "$$log(\\frac{\\mu(X)}{1-\\mu(X)}) = \\alpha + f_1(X_1) + … + f_p(X_p)$$\n",
    "\n",
    "The $f_i(X_i)$ denote **smooth**, **non-parametrics** functions. It could refer to any distribution from exponential family, such as Gaussian, binomial, Poisson etc...\n",
    "\n",
    "**Advantages on GAN models** : \n",
    "- It allows us to easily examine the **partial relationships** betwen the target variable and the features. Its additive nature ensures that the **marginal impact** of a single  variable **does not depend on the others** in the model.\n",
    "- The **non-linear fits** can potentially make more accurate predictions of the target. \n",
    "\n",
    "\n",
    "**Remark :** For the Python implementation, we can use the packages pyGAM, PiML, and statsmodels. The **pyGAM library** comes with different non parametric functions that we can apply to our features : \n",
    "- We apply a **spline terms** 's' for continuous numeric features (NbSiblings column is actually the only one)\n",
    "- And **factor terms** 'f' for categorical features (all the others)\n"
   ]
  },
  {
   "cell_type": "code",
   "execution_count": 11,
   "metadata": {},
   "outputs": [
    {
     "name": "stderr",
     "output_type": "stream",
     "text": [
      "  0% (0 of 11) |                         | Elapsed Time: 0:00:00 ETA:  --:--:--\n",
      "  9% (1 of 11) |##                       | Elapsed Time: 0:00:00 ETA:   0:00:04\n",
      " 18% (2 of 11) |####                     | Elapsed Time: 0:00:00 ETA:   0:00:02\n",
      " 27% (3 of 11) |######                   | Elapsed Time: 0:00:00 ETA:   0:00:02\n",
      " 36% (4 of 11) |#########                | Elapsed Time: 0:00:01 ETA:   0:00:01\n",
      " 45% (5 of 11) |###########              | Elapsed Time: 0:00:01 ETA:   0:00:01\n",
      " 54% (6 of 11) |#############            | Elapsed Time: 0:00:01 ETA:   0:00:01\n",
      " 63% (7 of 11) |###############          | Elapsed Time: 0:00:01 ETA:   0:00:01\n",
      " 72% (8 of 11) |##################       | Elapsed Time: 0:00:02 ETA:   0:00:00\n",
      " 81% (9 of 11) |####################     | Elapsed Time: 0:00:02 ETA:   0:00:00\n",
      " 90% (10 of 11) |#####################   | Elapsed Time: 0:00:03 ETA:   0:00:00\n",
      "100% (11 of 11) |########################| Elapsed Time: 0:00:03 Time:  0:00:03\n"
     ]
    }
   ],
   "source": [
    "# Implement Generative Additive Model - Without hyperparameters tuning\n",
    "n_splines = X_train_whitebox.shape[1] \n",
    "X_train_array = np.array(X_train_whitebox)\n",
    "y_train_array = np.array(y_train)\n",
    "\n",
    "# Number of siblings is the only continuous numerical variable, all others are categorical\n",
    "loggam_1 = LogisticGAM(f(0) + f(1) + f(2) + f(3) + f(4) + f(5) + f(6) + f(7) + s(8) + f(9) + f(10), constraints = 'none').gridsearch(X_train_array, y_train_array)\n",
    "predictions = loggam_1.predict(X_test_whitebox)\n",
    "y_pred_loggam1 = predictions*1\n",
    "\n",
    "# Calculate evaluation metrics for classification\n",
    "accuracy_loggam_1 = accuracy_score(y_test, y_pred_loggam1)\n",
    "precision_loggam_1 = precision_score(y_test, y_pred_loggam1)\n",
    "recall_loggam_1 = recall_score(y_test, y_pred_loggam1)\n",
    "f1_loggam_1 = f1_score(y_test, y_pred_loggam1)\n",
    "\n",
    "# Append the results to df_whitebox_results\n",
    "results_dict_loggam_1 = {\n",
    "    'Model name': ['GAM - without Tuning'], 'Model parameters': [loggam_1.get_params()],\n",
    "    'Accuracy': [accuracy_loggam_1], 'Precision': [precision_loggam_1], 'Recall': [recall_loggam_1], 'F1 Score': [f1_loggam_1]\n",
    "    }\n",
    "df_whitebox_results = pd.concat([df_whitebox_results, pd.DataFrame(results_dict_loggam_1)], ignore_index=True)"
   ]
  },
  {
   "cell_type": "markdown",
   "metadata": {},
   "source": [
    "Lambda values are : \n",
    "- by default for spline terms $s()$, the penalty value on their 2nd derivative, which encourage the functions to be smoother\n",
    "- by default for factor terms $f()$, a L2 penalty (ridge) which encourages to take on smaller weight values."
   ]
  },
  {
   "cell_type": "code",
   "execution_count": 13,
   "metadata": {},
   "outputs": [
    {
     "name": "stderr",
     "output_type": "stream",
     "text": [
      "  0% (0 of 200) |                        | Elapsed Time: 0:00:00 ETA:  --:--:--\n"
     ]
    },
    {
     "name": "stderr",
     "output_type": "stream",
     "text": [
      "  0% (1 of 200) |                        | Elapsed Time: 0:00:00 ETA:   0:01:24\n",
      "  1% (2 of 200) |                        | Elapsed Time: 0:00:00 ETA:   0:01:16\n",
      "  1% (3 of 200) |                        | Elapsed Time: 0:00:01 ETA:   0:01:14\n",
      "  2% (4 of 200) |                        | Elapsed Time: 0:00:01 ETA:   0:01:14\n",
      "  2% (5 of 200) |                        | Elapsed Time: 0:00:01 ETA:   0:01:14\n",
      "  3% (6 of 200) |                        | Elapsed Time: 0:00:02 ETA:   0:01:12\n",
      "  3% (7 of 200) |                        | Elapsed Time: 0:00:02 ETA:   0:01:10\n",
      "  4% (8 of 200) |                        | Elapsed Time: 0:00:03 ETA:   0:01:13\n",
      "  4% (9 of 200) |#                       | Elapsed Time: 0:00:03 ETA:   0:01:09\n",
      "  5% (10 of 200) |#                      | Elapsed Time: 0:00:03 ETA:   0:01:04\n",
      "  5% (11 of 200) |#                      | Elapsed Time: 0:00:03 ETA:   0:01:01\n",
      "  6% (12 of 200) |#                      | Elapsed Time: 0:00:04 ETA:   0:01:01\n",
      "  6% (13 of 200) |#                      | Elapsed Time: 0:00:04 ETA:   0:01:02\n",
      "  7% (14 of 200) |#                      | Elapsed Time: 0:00:04 ETA:   0:01:02\n",
      "  7% (15 of 200) |#                      | Elapsed Time: 0:00:05 ETA:   0:00:59\n",
      "  8% (16 of 200) |#                      | Elapsed Time: 0:00:05 ETA:   0:01:02\n",
      "  8% (17 of 200) |#                      | Elapsed Time: 0:00:05 ETA:   0:01:01\n",
      "  9% (18 of 200) |##                     | Elapsed Time: 0:00:06 ETA:   0:00:59\n",
      "  9% (19 of 200) |##                     | Elapsed Time: 0:00:06 ETA:   0:00:59\n",
      " 10% (20 of 200) |##                     | Elapsed Time: 0:00:06 ETA:   0:00:59\n",
      " 10% (21 of 200) |##                     | Elapsed Time: 0:00:07 ETA:   0:00:57\n",
      " 11% (22 of 200) |##                     | Elapsed Time: 0:00:07 ETA:   0:00:59\n",
      " 11% (23 of 200) |##                     | Elapsed Time: 0:00:08 ETA:   0:01:03\n",
      " 12% (24 of 200) |##                     | Elapsed Time: 0:00:08 ETA:   0:01:03\n",
      " 12% (25 of 200) |##                     | Elapsed Time: 0:00:08 ETA:   0:01:00\n",
      " 13% (26 of 200) |##                     | Elapsed Time: 0:00:08 ETA:   0:01:00\n",
      " 13% (27 of 200) |###                    | Elapsed Time: 0:00:09 ETA:   0:00:59\n",
      " 14% (28 of 200) |###                    | Elapsed Time: 0:00:09 ETA:   0:00:57\n",
      " 14% (29 of 200) |###                    | Elapsed Time: 0:00:09 ETA:   0:00:52\n",
      " 15% (30 of 200) |###                    | Elapsed Time: 0:00:10 ETA:   0:00:49\n",
      " 15% (31 of 200) |###                    | Elapsed Time: 0:00:10 ETA:   0:00:48\n",
      " 16% (32 of 200) |###                    | Elapsed Time: 0:00:10 ETA:   0:00:47\n",
      " 16% (33 of 200) |###                    | Elapsed Time: 0:00:10 ETA:   0:00:45\n",
      " 17% (34 of 200) |###                    | Elapsed Time: 0:00:11 ETA:   0:00:43\n",
      " 17% (35 of 200) |####                   | Elapsed Time: 0:00:11 ETA:   0:00:42\n",
      " 18% (36 of 200) |####                   | Elapsed Time: 0:00:11 ETA:   0:00:42\n",
      " 18% (37 of 200) |####                   | Elapsed Time: 0:00:11 ETA:   0:00:42\n",
      " 19% (38 of 200) |####                   | Elapsed Time: 0:00:12 ETA:   0:00:42\n",
      " 19% (39 of 200) |####                   | Elapsed Time: 0:00:12 ETA:   0:00:43\n",
      " 20% (40 of 200) |####                   | Elapsed Time: 0:00:12 ETA:   0:00:43\n",
      " 20% (41 of 200) |####                   | Elapsed Time: 0:00:12 ETA:   0:00:43\n",
      " 21% (42 of 200) |####                   | Elapsed Time: 0:00:13 ETA:   0:00:42\n",
      " 21% (43 of 200) |####                   | Elapsed Time: 0:00:13 ETA:   0:00:42\n",
      " 22% (44 of 200) |#####                  | Elapsed Time: 0:00:13 ETA:   0:00:42\n",
      " 22% (45 of 200) |#####                  | Elapsed Time: 0:00:14 ETA:   0:00:42\n",
      " 23% (46 of 200) |#####                  | Elapsed Time: 0:00:14 ETA:   0:00:41\n",
      " 23% (47 of 200) |#####                  | Elapsed Time: 0:00:14 ETA:   0:00:40\n",
      " 24% (48 of 200) |#####                  | Elapsed Time: 0:00:14 ETA:   0:00:40\n",
      " 24% (49 of 200) |#####                  | Elapsed Time: 0:00:15 ETA:   0:00:39\n",
      " 25% (50 of 200) |#####                  | Elapsed Time: 0:00:15 ETA:   0:00:39\n",
      " 25% (51 of 200) |#####                  | Elapsed Time: 0:00:15 ETA:   0:00:38\n",
      " 26% (52 of 200) |#####                  | Elapsed Time: 0:00:15 ETA:   0:00:37\n",
      " 26% (53 of 200) |######                 | Elapsed Time: 0:00:16 ETA:   0:00:38\n",
      " 27% (54 of 200) |######                 | Elapsed Time: 0:00:16 ETA:   0:00:38\n",
      " 27% (55 of 200) |######                 | Elapsed Time: 0:00:16 ETA:   0:00:38\n",
      " 28% (56 of 200) |######                 | Elapsed Time: 0:00:16 ETA:   0:00:39\n",
      " 28% (57 of 200) |######                 | Elapsed Time: 0:00:17 ETA:   0:00:41\n",
      " 29% (58 of 200) |######                 | Elapsed Time: 0:00:17 ETA:   0:00:44\n",
      " 29% (59 of 200) |######                 | Elapsed Time: 0:00:18 ETA:   0:00:47\n",
      " 30% (60 of 200) |######                 | Elapsed Time: 0:00:18 ETA:   0:00:48\n",
      " 30% (61 of 200) |#######                | Elapsed Time: 0:00:18 ETA:   0:00:49\n",
      " 31% (62 of 200) |#######                | Elapsed Time: 0:00:19 ETA:   0:00:50\n",
      " 31% (63 of 200) |#######                | Elapsed Time: 0:00:19 ETA:   0:00:51\n",
      " 32% (64 of 200) |#######                | Elapsed Time: 0:00:19 ETA:   0:00:48\n",
      " 32% (65 of 200) |#######                | Elapsed Time: 0:00:20 ETA:   0:00:45\n",
      " 33% (66 of 200) |#######                | Elapsed Time: 0:00:20 ETA:   0:00:44\n",
      " 33% (67 of 200) |#######                | Elapsed Time: 0:00:20 ETA:   0:00:43\n",
      " 34% (68 of 200) |#######                | Elapsed Time: 0:00:20 ETA:   0:00:40\n",
      " 34% (69 of 200) |#######                | Elapsed Time: 0:00:21 ETA:   0:00:39\n",
      " 35% (70 of 200) |########               | Elapsed Time: 0:00:21 ETA:   0:00:39\n",
      " 35% (71 of 200) |########               | Elapsed Time: 0:00:21 ETA:   0:00:36\n",
      " 36% (72 of 200) |########               | Elapsed Time: 0:00:22 ETA:   0:00:35\n",
      " 36% (73 of 200) |########               | Elapsed Time: 0:00:22 ETA:   0:00:35\n",
      " 37% (74 of 200) |########               | Elapsed Time: 0:00:22 ETA:   0:00:34\n",
      " 37% (75 of 200) |########               | Elapsed Time: 0:00:22 ETA:   0:00:33\n",
      " 38% (76 of 200) |########               | Elapsed Time: 0:00:23 ETA:   0:00:33\n",
      " 38% (77 of 200) |########               | Elapsed Time: 0:00:23 ETA:   0:00:33\n",
      " 39% (78 of 200) |########               | Elapsed Time: 0:00:23 ETA:   0:00:32\n",
      " 39% (79 of 200) |#########              | Elapsed Time: 0:00:23 ETA:   0:00:32\n",
      " 40% (80 of 200) |#########              | Elapsed Time: 0:00:24 ETA:   0:00:31\n",
      " 40% (81 of 200) |#########              | Elapsed Time: 0:00:24 ETA:   0:00:32\n",
      " 41% (82 of 200) |#########              | Elapsed Time: 0:00:24 ETA:   0:00:33\n",
      " 41% (83 of 200) |#########              | Elapsed Time: 0:00:25 ETA:   0:00:33\n",
      " 42% (84 of 200) |#########              | Elapsed Time: 0:00:25 ETA:   0:00:32\n",
      " 42% (85 of 200) |#########              | Elapsed Time: 0:00:25 ETA:   0:00:32\n",
      " 43% (86 of 200) |#########              | Elapsed Time: 0:00:25 ETA:   0:00:32\n",
      " 43% (87 of 200) |##########             | Elapsed Time: 0:00:26 ETA:   0:00:31\n",
      " 44% (88 of 200) |##########             | Elapsed Time: 0:00:26 ETA:   0:00:31\n",
      " 44% (89 of 200) |##########             | Elapsed Time: 0:00:26 ETA:   0:00:29\n",
      " 45% (90 of 200) |##########             | Elapsed Time: 0:00:27 ETA:   0:00:28\n",
      " 45% (91 of 200) |##########             | Elapsed Time: 0:00:27 ETA:   0:00:28\n",
      " 46% (92 of 200) |##########             | Elapsed Time: 0:00:27 ETA:   0:00:29\n",
      " 46% (93 of 200) |##########             | Elapsed Time: 0:00:27 ETA:   0:00:29\n",
      " 47% (94 of 200) |##########             | Elapsed Time: 0:00:28 ETA:   0:00:29\n",
      " 47% (95 of 200) |##########             | Elapsed Time: 0:00:28 ETA:   0:00:29\n",
      " 48% (96 of 200) |###########            | Elapsed Time: 0:00:28 ETA:   0:00:28\n",
      " 48% (97 of 200) |###########            | Elapsed Time: 0:00:28 ETA:   0:00:28\n",
      " 49% (98 of 200) |###########            | Elapsed Time: 0:00:29 ETA:   0:00:27\n",
      " 49% (99 of 200) |###########            | Elapsed Time: 0:00:29 ETA:   0:00:27\n",
      " 50% (100 of 200) |###########           | Elapsed Time: 0:00:29 ETA:   0:00:27\n",
      " 50% (101 of 200) |###########           | Elapsed Time: 0:00:29 ETA:   0:00:25\n",
      " 51% (102 of 200) |###########           | Elapsed Time: 0:00:30 ETA:   0:00:25\n",
      " 51% (103 of 200) |###########           | Elapsed Time: 0:00:30 ETA:   0:00:24\n",
      " 52% (104 of 200) |###########           | Elapsed Time: 0:00:30 ETA:   0:00:24\n",
      " 52% (105 of 200) |###########           | Elapsed Time: 0:00:30 ETA:   0:00:24\n",
      " 53% (106 of 200) |###########           | Elapsed Time: 0:00:31 ETA:   0:00:24\n",
      " 53% (107 of 200) |###########           | Elapsed Time: 0:00:31 ETA:   0:00:24\n",
      " 54% (108 of 200) |###########           | Elapsed Time: 0:00:31 ETA:   0:00:23\n",
      " 54% (109 of 200) |###########           | Elapsed Time: 0:00:32 ETA:   0:00:23\n",
      " 55% (110 of 200) |############          | Elapsed Time: 0:00:32 ETA:   0:00:23\n",
      " 55% (111 of 200) |############          | Elapsed Time: 0:00:32 ETA:   0:00:23\n",
      " 56% (112 of 200) |############          | Elapsed Time: 0:00:32 ETA:   0:00:24\n",
      " 56% (113 of 200) |############          | Elapsed Time: 0:00:33 ETA:   0:00:24\n",
      " 57% (114 of 200) |############          | Elapsed Time: 0:00:33 ETA:   0:00:24\n",
      " 57% (115 of 200) |############          | Elapsed Time: 0:00:33 ETA:   0:00:24\n",
      " 58% (116 of 200) |############          | Elapsed Time: 0:00:34 ETA:   0:00:25\n",
      " 58% (117 of 200) |############          | Elapsed Time: 0:00:34 ETA:   0:00:24\n",
      " 59% (118 of 200) |############          | Elapsed Time: 0:00:34 ETA:   0:00:24\n",
      " 59% (119 of 200) |#############         | Elapsed Time: 0:00:34 ETA:   0:00:23\n",
      " 60% (120 of 200) |#############         | Elapsed Time: 0:00:35 ETA:   0:00:23\n",
      " 60% (121 of 200) |#############         | Elapsed Time: 0:00:35 ETA:   0:00:23\n",
      " 61% (122 of 200) |#############         | Elapsed Time: 0:00:35 ETA:   0:00:23\n",
      " 61% (123 of 200) |#############         | Elapsed Time: 0:00:36 ETA:   0:00:22\n",
      " 62% (124 of 200) |#############         | Elapsed Time: 0:00:36 ETA:   0:00:22\n",
      " 62% (125 of 200) |#############         | Elapsed Time: 0:00:36 ETA:   0:00:22\n",
      " 63% (126 of 200) |#############         | Elapsed Time: 0:00:37 ETA:   0:00:22\n",
      " 63% (127 of 200) |#############         | Elapsed Time: 0:00:37 ETA:   0:00:22\n",
      " 64% (128 of 200) |##############        | Elapsed Time: 0:00:37 ETA:   0:00:22\n",
      " 64% (129 of 200) |##############        | Elapsed Time: 0:00:38 ETA:   0:00:21\n",
      " 65% (130 of 200) |##############        | Elapsed Time: 0:00:38 ETA:   0:00:21\n",
      " 65% (131 of 200) |##############        | Elapsed Time: 0:00:38 ETA:   0:00:21\n",
      " 66% (132 of 200) |##############        | Elapsed Time: 0:00:38 ETA:   0:00:20\n",
      " 66% (133 of 200) |##############        | Elapsed Time: 0:00:39 ETA:   0:00:20\n",
      " 67% (134 of 200) |##############        | Elapsed Time: 0:00:39 ETA:   0:00:19\n",
      " 67% (135 of 200) |##############        | Elapsed Time: 0:00:39 ETA:   0:00:19\n",
      " 68% (136 of 200) |##############        | Elapsed Time: 0:00:40 ETA:   0:00:19\n",
      " 68% (137 of 200) |###############       | Elapsed Time: 0:00:40 ETA:   0:00:18\n",
      " 69% (138 of 200) |###############       | Elapsed Time: 0:00:40 ETA:   0:00:17\n",
      " 69% (139 of 200) |###############       | Elapsed Time: 0:00:41 ETA:   0:00:18\n",
      " 70% (140 of 200) |###############       | Elapsed Time: 0:00:41 ETA:   0:00:19\n",
      " 70% (141 of 200) |###############       | Elapsed Time: 0:00:41 ETA:   0:00:20\n",
      " 71% (142 of 200) |###############       | Elapsed Time: 0:00:42 ETA:   0:00:20\n",
      " 71% (143 of 200) |###############       | Elapsed Time: 0:00:42 ETA:   0:00:20\n",
      " 72% (144 of 200) |###############       | Elapsed Time: 0:00:42 ETA:   0:00:21\n",
      " 72% (145 of 200) |###############       | Elapsed Time: 0:00:43 ETA:   0:00:19\n",
      " 73% (146 of 200) |################      | Elapsed Time: 0:00:43 ETA:   0:00:18\n",
      " 73% (147 of 200) |################      | Elapsed Time: 0:00:44 ETA:   0:00:19\n",
      " 74% (148 of 200) |################      | Elapsed Time: 0:00:44 ETA:   0:00:19\n",
      " 74% (149 of 200) |################      | Elapsed Time: 0:00:44 ETA:   0:00:19\n",
      " 75% (150 of 200) |################      | Elapsed Time: 0:00:45 ETA:   0:00:20\n",
      " 75% (151 of 200) |################      | Elapsed Time: 0:00:45 ETA:   0:00:19\n",
      " 76% (152 of 200) |################      | Elapsed Time: 0:00:45 ETA:   0:00:18\n",
      " 76% (153 of 200) |################      | Elapsed Time: 0:00:46 ETA:   0:00:16\n",
      " 77% (154 of 200) |################      | Elapsed Time: 0:00:46 ETA:   0:00:15\n",
      " 77% (155 of 200) |#################     | Elapsed Time: 0:00:47 ETA:   0:00:16\n",
      " 78% (156 of 200) |#################     | Elapsed Time: 0:00:47 ETA:   0:00:15\n",
      " 78% (157 of 200) |#################     | Elapsed Time: 0:00:47 ETA:   0:00:15\n",
      " 79% (158 of 200) |#################     | Elapsed Time: 0:00:48 ETA:   0:00:15\n",
      " 79% (159 of 200) |#################     | Elapsed Time: 0:00:48 ETA:   0:00:16\n",
      " 80% (160 of 200) |#################     | Elapsed Time: 0:00:48 ETA:   0:00:15\n",
      " 80% (161 of 200) |#################     | Elapsed Time: 0:00:49 ETA:   0:00:14\n",
      " 81% (162 of 200) |#################     | Elapsed Time: 0:00:49 ETA:   0:00:12\n",
      " 81% (163 of 200) |#################     | Elapsed Time: 0:00:49 ETA:   0:00:12\n",
      " 82% (164 of 200) |##################    | Elapsed Time: 0:00:50 ETA:   0:00:11\n",
      " 82% (165 of 200) |##################    | Elapsed Time: 0:00:50 ETA:   0:00:11\n",
      " 83% (166 of 200) |##################    | Elapsed Time: 0:00:50 ETA:   0:00:10\n",
      " 83% (167 of 200) |##################    | Elapsed Time: 0:00:50 ETA:   0:00:09\n",
      " 84% (168 of 200) |##################    | Elapsed Time: 0:00:51 ETA:   0:00:09\n",
      " 84% (169 of 200) |##################    | Elapsed Time: 0:00:51 ETA:   0:00:09\n",
      " 85% (170 of 200) |##################    | Elapsed Time: 0:00:51 ETA:   0:00:09\n",
      " 85% (171 of 200) |##################    | Elapsed Time: 0:00:52 ETA:   0:00:08\n",
      " 86% (172 of 200) |##################    | Elapsed Time: 0:00:52 ETA:   0:00:08\n",
      " 86% (173 of 200) |###################   | Elapsed Time: 0:00:52 ETA:   0:00:08\n",
      " 87% (174 of 200) |###################   | Elapsed Time: 0:00:53 ETA:   0:00:08\n",
      " 87% (175 of 200) |###################   | Elapsed Time: 0:00:53 ETA:   0:00:07\n",
      " 88% (176 of 200) |###################   | Elapsed Time: 0:00:53 ETA:   0:00:07\n",
      " 88% (177 of 200) |###################   | Elapsed Time: 0:00:53 ETA:   0:00:06\n",
      " 89% (178 of 200) |###################   | Elapsed Time: 0:00:54 ETA:   0:00:06\n",
      " 89% (179 of 200) |###################   | Elapsed Time: 0:00:54 ETA:   0:00:06\n",
      " 90% (180 of 200) |###################   | Elapsed Time: 0:00:54 ETA:   0:00:06\n",
      " 90% (181 of 200) |###################   | Elapsed Time: 0:00:55 ETA:   0:00:05\n",
      " 91% (182 of 200) |####################  | Elapsed Time: 0:00:55 ETA:   0:00:05\n",
      " 91% (183 of 200) |####################  | Elapsed Time: 0:00:55 ETA:   0:00:05\n",
      " 92% (184 of 200) |####################  | Elapsed Time: 0:00:56 ETA:   0:00:05\n",
      " 92% (185 of 200) |####################  | Elapsed Time: 0:00:56 ETA:   0:00:05\n",
      " 93% (186 of 200) |####################  | Elapsed Time: 0:00:56 ETA:   0:00:04\n",
      " 93% (187 of 200) |####################  | Elapsed Time: 0:00:57 ETA:   0:00:04\n",
      " 94% (188 of 200) |####################  | Elapsed Time: 0:00:57 ETA:   0:00:03\n",
      " 94% (189 of 200) |####################  | Elapsed Time: 0:00:57 ETA:   0:00:03\n",
      " 95% (190 of 200) |####################  | Elapsed Time: 0:00:57 ETA:   0:00:03\n",
      " 95% (191 of 200) |##################### | Elapsed Time: 0:00:58 ETA:   0:00:02\n",
      " 96% (192 of 200) |##################### | Elapsed Time: 0:00:58 ETA:   0:00:02\n",
      " 96% (193 of 200) |##################### | Elapsed Time: 0:00:58 ETA:   0:00:02\n",
      " 97% (194 of 200) |##################### | Elapsed Time: 0:00:59 ETA:   0:00:01\n",
      " 97% (195 of 200) |##################### | Elapsed Time: 0:00:59 ETA:   0:00:01\n",
      " 98% (196 of 200) |##################### | Elapsed Time: 0:00:59 ETA:   0:00:01\n",
      " 98% (197 of 200) |##################### | Elapsed Time: 0:01:00 ETA:   0:00:01\n",
      " 99% (198 of 200) |##################### | Elapsed Time: 0:01:00 ETA:   0:00:00\n",
      " 99% (199 of 200) |##################### | Elapsed Time: 0:01:01 ETA:   0:00:00\n",
      "100% (200 of 200) |######################| Elapsed Time: 0:01:01 Time:  0:01:01\n"
     ]
    }
   ],
   "source": [
    "# Implement Generative Additive Model - With hyperparameters tuning\n",
    "n_splines = X_train_whitebox.shape[1] \n",
    "X_train_array = np.array(X_train_whitebox)\n",
    "y_train_array = np.array(y_train)\n",
    "n_features = X_train_whitebox.shape[1]\n",
    "\n",
    "# Regularization parameters to tune\n",
    "lams = np.random.rand(200, n_features)\n",
    "lams = lams * 6 - 3 \n",
    "lams = 10 ** lams \n",
    "\n",
    "# Number of siblings is the only continuous numerical variable, all others are categorical\n",
    "loggam_2 = LogisticGAM(f(0) + f(1) + f(2) + f(3) + f(4) + f(5) + f(6) + f(7) + s(8) + f(9) + f(10), constraints = 'none').gridsearch(X_train_array, y_train_array, lam=lams)\n",
    "predictions = loggam_2.predict(X_test_whitebox)\n",
    "y_pred_loggam_2 = predictions*1\n",
    "\n",
    "# Compute evaluation metrics\n",
    "accuracy_loggam_2 = accuracy_score(y_test, y_pred_loggam_2)\n",
    "precision_loggam_2 = precision_score(y_test, y_pred_loggam_2)\n",
    "recall_loggam_2 = recall_score(y_test, y_pred_loggam_2)\n",
    "f1_loggam_2 = f1_score(y_test, y_pred_loggam_2)\n",
    "\n",
    "# Append the results to df_whitebox_results\n",
    "results_dict_loggam_2 = {\n",
    "    'Model name': ['GAM - with Tuning'], 'Model parameters': [loggam_2.get_params()],\n",
    "    'Accuracy': [accuracy_loggam_2], 'Precision': [precision_loggam_2], 'Recall': [recall_loggam_2], 'F1 Score': [f1_loggam_2]\n",
    "    }\n",
    "df_whitebox_results = pd.concat([df_whitebox_results, pd.DataFrame(results_dict_loggam_2)], ignore_index=True)"
   ]
  },
  {
   "cell_type": "code",
   "execution_count": 14,
   "metadata": {},
   "outputs": [
    {
     "data": {
      "text/plain": [
       "LogisticGAM(callbacks=[Deviance(), Diffs(), Accuracy()], \n",
       "   fit_intercept=True, max_iter=100, \n",
       "   terms=f(0) + f(1) + f(2) + f(3) + f(4) + f(5) + f(6) + f(7) + s(8) + f(9) + f(10) + intercept,\n",
       "   tol=0.0001, verbose=False)"
      ]
     },
     "execution_count": 14,
     "metadata": {},
     "output_type": "execute_result"
    }
   ],
   "source": [
    "loggam_2"
   ]
  },
  {
   "cell_type": "markdown",
   "metadata": {},
   "source": [
    "### 3. Compare whitebox model performance with blackbox model \n",
    "\n",
    "In previous step, we implemented three whitebox models : **Logistic Regression** (LR), **Decision Tree** (DT), **Generative Additive Models** (GAN). Let's compare their results with our blackbox models results, and save the model having the best performances."
   ]
  },
  {
   "cell_type": "code",
   "execution_count": 15,
   "metadata": {},
   "outputs": [
    {
     "data": {
      "text/html": [
       "<div>\n",
       "<style scoped>\n",
       "    .dataframe tbody tr th:only-of-type {\n",
       "        vertical-align: middle;\n",
       "    }\n",
       "\n",
       "    .dataframe tbody tr th {\n",
       "        vertical-align: top;\n",
       "    }\n",
       "\n",
       "    .dataframe thead th {\n",
       "        text-align: right;\n",
       "    }\n",
       "</style>\n",
       "<table border=\"1\" class=\"dataframe\">\n",
       "  <thead>\n",
       "    <tr style=\"text-align: right;\">\n",
       "      <th></th>\n",
       "      <th>Model name</th>\n",
       "      <th>Accuracy</th>\n",
       "      <th>Precision</th>\n",
       "      <th>Recall</th>\n",
       "      <th>F1 Score</th>\n",
       "    </tr>\n",
       "  </thead>\n",
       "  <tbody>\n",
       "    <tr>\n",
       "      <th>0</th>\n",
       "      <td>Logistic Regression</td>\n",
       "      <td>0.681714</td>\n",
       "      <td>0.611447</td>\n",
       "      <td>0.484098</td>\n",
       "      <td>0.540371</td>\n",
       "    </tr>\n",
       "    <tr>\n",
       "      <th>1</th>\n",
       "      <td>Decision Tree - without Tuning</td>\n",
       "      <td>0.599804</td>\n",
       "      <td>0.481001</td>\n",
       "      <td>0.448916</td>\n",
       "      <td>0.464405</td>\n",
       "    </tr>\n",
       "    <tr>\n",
       "      <th>2</th>\n",
       "      <td>Decision Tree - with Tuning</td>\n",
       "      <td>0.676493</td>\n",
       "      <td>0.604853</td>\n",
       "      <td>0.470025</td>\n",
       "      <td>0.528983</td>\n",
       "    </tr>\n",
       "    <tr>\n",
       "      <th>3</th>\n",
       "      <td>GAM - with Tuning</td>\n",
       "      <td>0.688785</td>\n",
       "      <td>0.624371</td>\n",
       "      <td>0.488883</td>\n",
       "      <td>0.548382</td>\n",
       "    </tr>\n",
       "    <tr>\n",
       "      <th>4</th>\n",
       "      <td>Blackbox model</td>\n",
       "      <td>0.665071</td>\n",
       "      <td>0.782143</td>\n",
       "      <td>0.184914</td>\n",
       "      <td>0.299112</td>\n",
       "    </tr>\n",
       "  </tbody>\n",
       "</table>\n",
       "</div>"
      ],
      "text/plain": [
       "                       Model name  Accuracy  Precision    Recall  F1 Score\n",
       "0             Logistic Regression  0.681714   0.611447  0.484098  0.540371\n",
       "1  Decision Tree - without Tuning  0.599804   0.481001  0.448916  0.464405\n",
       "2     Decision Tree - with Tuning  0.676493   0.604853  0.470025  0.528983\n",
       "3               GAM - with Tuning  0.688785   0.624371  0.488883  0.548382\n",
       "4                  Blackbox model  0.665071   0.782143  0.184914  0.299112"
      ]
     },
     "execution_count": 15,
     "metadata": {},
     "output_type": "execute_result"
    }
   ],
   "source": [
    "# Append the Blackbox results to df_whitebox_results\n",
    "results_dict_blackbox = {\n",
    "    'Model name': ['Blackbox model'], 'Model parameters': [blackbox_model.get_params()],\n",
    "    'Accuracy': [accuracy_catboost_test], 'Precision': [precision_catboost_test], 'Recall': [recall_catboost_test], 'F1 Score': [f1_catboost_test]\n",
    "    }\n",
    "df_whitebox_results = pd.concat([df_whitebox_results, pd.DataFrame(results_dict_blackbox)], ignore_index=True)\n",
    "df_whitebox_results_to_print = df_whitebox_results.drop(columns=['Model parameters'], inplace=False).copy()\n",
    "df_whitebox_results_to_print"
   ]
  },
  {
   "cell_type": "code",
   "execution_count": 16,
   "metadata": {},
   "outputs": [
    {
     "data": {
      "image/png": "[encoded data removed]",
      "text/plain": [
       "<Figure size 2400x450 with 6 Axes>"
      ]
     },
     "metadata": {},
     "output_type": "display_data"
    }
   ],
   "source": [
    "# Print all the confusion matrix\n",
    "model_names = ['Logistic Regression', 'Decision Tree', 'Decision Tree tuned', 'Logistic GAM', 'Logistic GAM tuned', 'Blackbox model']\n",
    "predictions = [y_pred_logreg, y_pred_dt1, y_pred_dt2, y_pred_loggam1, y_pred_loggam_2, y_pred_blackbox]\n",
    "\n",
    "fig, axes = plt.subplots(1, 6, figsize=(24, 4.5))\n",
    "for i in range(6):\n",
    "    ax = axes[i]\n",
    "    cm = confusion_matrix(y_test, predictions[i])\n",
    "    sns.heatmap(cm, annot=True, fmt='d', cmap='PiYG', cbar=False, ax=ax,\n",
    "                annot_kws={\"size\": 13}, cbar_kws={\"shrink\": 0.5}, linewidths=0.5, linecolor='white')\n",
    "    ax.set_xlabel('Predictions', fontsize=12)\n",
    "    ax.set_ylabel('True label', fontsize=12)\n",
    "    ax.set_title(model_names[i], fontsize=15)\n",
    "\n",
    "plt.tight_layout()\n",
    "plt.show()"
   ]
  },
  {
   "cell_type": "markdown",
   "metadata": {},
   "source": [
    "**Comparison of whitebox and blackbox models performance**\n",
    "\n",
    "If we compare the performance of our whitebox models with that of the blackbox, we can see that we achieve an accuracy on the test set very close to that of the blackbox catboost model, particularly with the OLS, the tuned decision Tree and the GAM. Indeed, these three models all have an accuracy of around 77%, approaching the 78% accuracy of our blackbox catboost model. \n",
    "\n",
    "Predictive performance is therefore very close, but we'll choose to save the GAM model. This is because it is more robust to overfitting than the decision tree, whose performance can vary greatly depending on the training dataset, and it also captures non-linear relationships between features and the variable of interest, which logistic regression does not."
   ]
  },
  {
   "cell_type": "markdown",
   "metadata": {},
   "source": [
    "### 4. Saving the chosen whitebox model\n",
    "\n",
    "Of the various models we evaluated, we chose to continue with the **GAM (with Tuning)** model, which showed the **highest accuracy score** of all the whitebox models we tested. We therefore save this model and move on to try and explain the results of our catboost model based on this GAM whitebox model."
   ]
  },
  {
   "cell_type": "code",
   "execution_count": 17,
   "metadata": {},
   "outputs": [
    {
     "data": {
      "text/plain": [
       "['../Models/whitebox_model.pkl']"
      ]
     },
     "execution_count": 17,
     "metadata": {},
     "output_type": "execute_result"
    }
   ],
   "source": [
    "# Save the best performance whitebox model to a file\n",
    "model_filename = '../Models/whitebox_model.pkl'\n",
    "joblib.dump(loggam_2, model_filename)"
   ]
  }
 ],
 "metadata": {
  "kernelspec": {
   "display_name": "Python 3",
   "language": "python",
   "name": "python3"
  },
  "language_info": {
   "codemirror_mode": {
    "name": "ipython",
    "version": 3
   },
   "file_extension": ".py",
   "mimetype": "text/x-python",
   "name": "python",
   "nbconvert_exporter": "python",
   "pygments_lexer": "ipython3",
   "version": "3.8.9"
  }
 },
 "nbformat": 4,
 "nbformat_minor": 2
}
