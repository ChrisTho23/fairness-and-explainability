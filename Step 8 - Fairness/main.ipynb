{
 "cells": [
  {
   "cell_type": "markdown",
   "metadata": {},
   "source": [
    "## Step 8 - Fairness \n",
    "\n",
    "Goal of this step : Assess the **fairness** of your own model with respect to the protected attribute. \n",
    "Use a **statistical test** for the following two fairness definitions: **Statistical Parity** and **Conditional Statistical Parity**.\n",
    "\n",
    "- **Statistical parity :** a classifier satisfies the statistical parity if subjects in both protecte and unprotected groups have equal probabilities of being assigned to the prositive predicted class. In other words, the applicants should have an equivalent opportunity to obtain a good test score, regardless of its gender or its ethnic group. We should have : \n",
    "$$P(d=1|Gender=M) = P(d=1|Gender=F)$$\n",
    "\n",
    "- **Conditional Statistical parity :** if subjects in both protected and unprotected groups have equal probability of being assigned to the positive predicted class, controlling for a legitimate factors (or features) $L \\in X$. For example : \n",
    "$$P(d=1|Gender=M, L=I) = P(d=1|Gender=F, L=I)$$\n",
    "\n",
    "**How to build groups ?** For credit scoring applications for example, groups gather applicants with similar risk profiles: Determined through unsupervised clustering methods (K-Means) or using an exogenous classification (Basel classification). We could do the same for students.\n",
    "\n",
    "**How to choose the number of groups ?** To keep in mind that the larger the number of sub-groups, then : \n",
    "- The more homogenous the sub‐groups are (cleaner test)\n",
    "- The more likely at least one sub‐group is found to be unfair\n",
    "- The smaller the number of individuals in each sub‐group"
   ]
  },
  {
   "cell_type": "code",
   "execution_count": 28,
   "metadata": {},
   "outputs": [],
   "source": [
    "# Import statements \n",
    "import joblib\n",
    "import numpy as np\n",
    "import pandas as pd \n",
    "from scipy.stats import chi2\n",
    "from sklearn.model_selection import train_test_split"
   ]
  },
  {
   "cell_type": "code",
   "execution_count": 29,
   "metadata": {},
   "outputs": [
    {
     "data": {
      "text/html": [
       "<div>\n",
       "<style scoped>\n",
       "    .dataframe tbody tr th:only-of-type {\n",
       "        vertical-align: middle;\n",
       "    }\n",
       "\n",
       "    .dataframe tbody tr th {\n",
       "        vertical-align: top;\n",
       "    }\n",
       "\n",
       "    .dataframe thead th {\n",
       "        text-align: right;\n",
       "    }\n",
       "</style>\n",
       "<table border=\"1\" class=\"dataframe\">\n",
       "  <thead>\n",
       "    <tr style=\"text-align: right;\">\n",
       "      <th></th>\n",
       "      <th>Gender</th>\n",
       "      <th>EthnicGroup</th>\n",
       "      <th>ParentEduc</th>\n",
       "      <th>LunchType</th>\n",
       "      <th>TestPrep</th>\n",
       "      <th>ParentMaritalStatus</th>\n",
       "      <th>PracticeSport</th>\n",
       "      <th>IsFirstChild</th>\n",
       "      <th>NrSiblings</th>\n",
       "      <th>School_Bus</th>\n",
       "      <th>WklyStudyHours</th>\n",
       "      <th>y_pred</th>\n",
       "    </tr>\n",
       "  </thead>\n",
       "  <tbody>\n",
       "    <tr>\n",
       "      <th>25876</th>\n",
       "      <td>male</td>\n",
       "      <td>group B</td>\n",
       "      <td>some college</td>\n",
       "      <td>free/reduced</td>\n",
       "      <td>0</td>\n",
       "      <td>married</td>\n",
       "      <td>sometimes</td>\n",
       "      <td>1</td>\n",
       "      <td>1</td>\n",
       "      <td>0</td>\n",
       "      <td>Between 5-10 hours</td>\n",
       "      <td>0</td>\n",
       "    </tr>\n",
       "    <tr>\n",
       "      <th>26259</th>\n",
       "      <td>female</td>\n",
       "      <td>group C</td>\n",
       "      <td>some high school</td>\n",
       "      <td>free/reduced</td>\n",
       "      <td>0</td>\n",
       "      <td>divorced</td>\n",
       "      <td>sometimes</td>\n",
       "      <td>0</td>\n",
       "      <td>1</td>\n",
       "      <td>0</td>\n",
       "      <td>Less than 5 hours</td>\n",
       "      <td>0</td>\n",
       "    </tr>\n",
       "    <tr>\n",
       "      <th>11278</th>\n",
       "      <td>male</td>\n",
       "      <td>group B</td>\n",
       "      <td>some high school</td>\n",
       "      <td>free/reduced</td>\n",
       "      <td>0</td>\n",
       "      <td>single</td>\n",
       "      <td>sometimes</td>\n",
       "      <td>1</td>\n",
       "      <td>1</td>\n",
       "      <td>1</td>\n",
       "      <td>More than 10 hours</td>\n",
       "      <td>0</td>\n",
       "    </tr>\n",
       "    <tr>\n",
       "      <th>26508</th>\n",
       "      <td>female</td>\n",
       "      <td>group A</td>\n",
       "      <td>high school</td>\n",
       "      <td>standard</td>\n",
       "      <td>0</td>\n",
       "      <td>single</td>\n",
       "      <td>never</td>\n",
       "      <td>1</td>\n",
       "      <td>1</td>\n",
       "      <td>1</td>\n",
       "      <td>Between 5-10 hours</td>\n",
       "      <td>0</td>\n",
       "    </tr>\n",
       "    <tr>\n",
       "      <th>23734</th>\n",
       "      <td>female</td>\n",
       "      <td>group C</td>\n",
       "      <td>some college</td>\n",
       "      <td>standard</td>\n",
       "      <td>0</td>\n",
       "      <td>married</td>\n",
       "      <td>regularly</td>\n",
       "      <td>0</td>\n",
       "      <td>1</td>\n",
       "      <td>0</td>\n",
       "      <td>More than 10 hours</td>\n",
       "      <td>0</td>\n",
       "    </tr>\n",
       "  </tbody>\n",
       "</table>\n",
       "</div>"
      ],
      "text/plain": [
       "       Gender EthnicGroup        ParentEduc     LunchType  TestPrep  \\\n",
       "25876    male     group B      some college  free/reduced         0   \n",
       "26259  female     group C  some high school  free/reduced         0   \n",
       "11278    male     group B  some high school  free/reduced         0   \n",
       "26508  female     group A       high school      standard         0   \n",
       "23734  female     group C      some college      standard         0   \n",
       "\n",
       "      ParentMaritalStatus PracticeSport  IsFirstChild  NrSiblings  School_Bus  \\\n",
       "25876             married     sometimes             1           1           0   \n",
       "26259            divorced     sometimes             0           1           0   \n",
       "11278              single     sometimes             1           1           1   \n",
       "26508              single         never             1           1           1   \n",
       "23734             married     regularly             0           1           0   \n",
       "\n",
       "           WklyStudyHours  y_pred  \n",
       "25876  Between 5-10 hours       0  \n",
       "26259   Less than 5 hours       0  \n",
       "11278  More than 10 hours       0  \n",
       "26508  Between 5-10 hours       0  \n",
       "23734  More than 10 hours       0  "
      ]
     },
     "execution_count": 29,
     "metadata": {},
     "output_type": "execute_result"
    }
   ],
   "source": [
    "# Load dataset\n",
    "df = pd.read_csv('../Dataset/df_processed.csv')\n",
    "X = df.drop('Grade', axis=1).copy()\n",
    "y = df['Grade'].copy()\n",
    "X_train, X_test, y_train, y_test = train_test_split(X, y, test_size=0.3)\n",
    "\n",
    "# Load the model from the file\n",
    "model_filename = '../Models/blackbox_model.pkl'\n",
    "blackbox_model = joblib.load(model_filename)\n",
    "y_pred_blackbox_test = blackbox_model.predict(X_test)\n",
    "y_pred_blackbox_train = blackbox_model.predict(X_train)\n",
    "\n",
    "# Add prediction to features dataframe\n",
    "df_test_results = X_test.copy()\n",
    "df_test_results['y_pred'] = y_pred_blackbox_test\n",
    "df_test_results.head()"
   ]
  },
  {
   "cell_type": "markdown",
   "metadata": {},
   "source": [
    "### 1. Assess model fairness using statistical parity definition of fairness \n",
    "\n",
    "The independence assumption for **statistical parity** is :  $H_0 : \\hat{Y}⫫G$.\n",
    "The corresponding chi-squared test statistic satisfies : \n",
    "\n",
    "$$\\chi^2_{SP} = \\sum_j\\sum_k\\frac{(E(n_{+jk})-n_{+jk})^2}{E(n_{+jk})}$$\n",
    "\n",
    "Under the null hypothesis, $\\chi^2_{SP}$ has one degree of freedom."
   ]
  },
  {
   "cell_type": "code",
   "execution_count": 47,
   "metadata": {},
   "outputs": [
    {
     "name": "stdout",
     "output_type": "stream",
     "text": [
      "total students :  9193\n",
      "Total 1 y_pred :  858\n",
      "Total 0 y_pred :  8335\n",
      "Total women :  4612\n",
      "Total male :  4581\n",
      "\n",
      "\n",
      "n1f: 620\n",
      "n0f: 3992\n",
      "n1m: 238\n",
      "n0m: 4343\n",
      "\n",
      "\n",
      "E1f : 430.45\n",
      "E0f : 3619.42\n",
      "E1m : 427.55\n",
      "E0m : 4153.45\n",
      "\n",
      "\n",
      "Test statistic value :  214.51396289073045\n"
     ]
    }
   ],
   "source": [
    "def count_gender_type(df):\n",
    "    df_male = df[df['Gender'] == 'male']\n",
    "    df_female = df[df['Gender'] == 'female']\n",
    "    n1m = df_male[df_male['y_pred']==1].shape[0]\n",
    "    n0m = df_male[df_male['y_pred']==0].shape[0]\n",
    "    n1f = df_female[df_female['y_pred']==1].shape[0]\n",
    "    n0f = df_female[df_female['y_pred']==0].shape[0]\n",
    "    return n1f, n0f, n1m, n0m\n",
    "\n",
    "def compute_expectations(df):\n",
    "    n1f, n0f, n1m, n0m = count_gender_type(df)\n",
    "    n = df.shape[0]\n",
    "    nf = n1f+n0f\n",
    "    nm = n1m+n0m\n",
    "    n1 = n1f+n1m\n",
    "    n0 = n0f+n0m\n",
    "\n",
    "    E1f = nf*n1/n\n",
    "    E0f = n0f*n0/n\n",
    "    \n",
    "    E1m = nm*n1/n\n",
    "    E0m = nm*n0/n\n",
    "    return E1f, E0f, E1m, E0m\n",
    "\n",
    "def compute_test_statistic(df): \n",
    "    n1f, n0f, n1m, n0m = count_gender_type(df)\n",
    "    E1f, E0f, E1m, E0m = compute_expectations(df)\n",
    "    chi2 = (n1f - E1f)**2 / E1f + (n0f - E0f)**2 / E0f + (n1m - E1m)**2 / E1m + (n0m - E0m)**2 / E0m \n",
    "    return chi2\n",
    "\n",
    "n1f, n0f, n1m, n0m = count_gender_type(df_test_results)\n",
    "E1f, E0f, E1m, E0m = compute_expectations(df_test_results)\n",
    "chi2 = compute_test_statistic(df_test_results)\n",
    "\n",
    "print('total students : ', df_test_results.shape[0])\n",
    "print(\"Total 1 y_pred : \", n1f+n1m)\n",
    "print(\"Total 0 y_pred : \", n0f+n0m)\n",
    "print(\"Total women : \", n1f+n0f)\n",
    "print(\"Total male : \", n1m+n0m)\n",
    "print('\\n')\n",
    "\n",
    "print(\"n1f:\", n1f)\n",
    "print(\"n0f:\", n0f)\n",
    "print(\"n1m:\", n1m)\n",
    "print(\"n0m:\", n0m)\n",
    "print('\\n')\n",
    "\n",
    "print(\"E1f :\", np.round(E1f, 2))\n",
    "print(\"E0f :\", np.round(E0f, 2))\n",
    "print(\"E1m :\", np.round(E1m, 2))\n",
    "print(\"E0m :\", np.round(E0m, 2))\n",
    "\n",
    "print('\\n')\n",
    "print(\"Test statistic value : \", chi2)"
   ]
  },
  {
   "cell_type": "markdown",
   "metadata": {},
   "source": [
    "We obtain $\\chi^2_{SP} = 214.51$, we then reject this hypothesis and consider that the model is biaised regarding gender, from the statistical parity definition."
   ]
  },
  {
   "cell_type": "markdown",
   "metadata": {},
   "source": [
    "Let's do the same for ethnic groups now."
   ]
  },
  {
   "cell_type": "code",
   "execution_count": 48,
   "metadata": {},
   "outputs": [
    {
     "data": {
      "text/plain": [
       "EthnicGroup\n",
       "group C    3402\n",
       "group D    2189\n",
       "group B    1732\n",
       "group E    1238\n",
       "group A     632\n",
       "Name: count, dtype: int64"
      ]
     },
     "execution_count": 48,
     "metadata": {},
     "output_type": "execute_result"
    }
   ],
   "source": [
    "df_test_results.EthnicGroup.value_counts()"
   ]
  },
  {
   "cell_type": "code",
   "execution_count": 52,
   "metadata": {},
   "outputs": [
    {
     "name": "stdout",
     "output_type": "stream",
     "text": [
      "total students :  9193\n",
      "Total 1 y_pred :  858\n",
      "Total 0 y_pred :  8335\n",
      "Total group A :  632\n",
      "Total group B :  1732\n",
      "Total group C :  3402\n",
      "Total group D :  2189\n",
      "Total group E :  1238\n",
      "\n",
      "\n",
      "n1A: 35\n",
      "n1B: 51\n",
      "n1C: 168\n",
      "n1D: 269\n",
      "n1E: 335\n",
      "\n",
      "\n",
      "n0A: 597\n",
      "n0B: 1681\n",
      "n0C: 3234\n",
      "n0D: 1920\n",
      "n0E: 903\n"
     ]
    }
   ],
   "source": [
    "def count_EthnicGroup_type(df):\n",
    "\n",
    "    df_A = df[df['EthnicGroup'] == 'group A']\n",
    "    df_B = df[df['EthnicGroup'] == 'group B']\n",
    "    df_C = df[df['EthnicGroup'] == 'group C']\n",
    "    df_D = df[df['EthnicGroup'] == 'group D']\n",
    "    df_E = df[df['EthnicGroup'] == 'group E']\n",
    "\n",
    "    n1A = df_A[df_A['y_pred']==1].shape[0]\n",
    "    n1B = df_B[df_B['y_pred']==1].shape[0]\n",
    "    n1C = df_C[df_C['y_pred']==1].shape[0]\n",
    "    n1D = df_D[df_D['y_pred']==1].shape[0]\n",
    "    n1E = df_E[df_E['y_pred']==1].shape[0]\n",
    "\n",
    "    n0A = df_A[df_A['y_pred']==0].shape[0]\n",
    "    n0B = df_B[df_B['y_pred']==0].shape[0]\n",
    "    n0C = df_C[df_C['y_pred']==0].shape[0]\n",
    "    n0D = df_D[df_D['y_pred']==0].shape[0]\n",
    "    n0E = df_E[df_E['y_pred']==0].shape[0]\n",
    "\n",
    "    return n1A, n1B, n1C, n1D, n1E, n0A, n0B, n0C, n0D, n0E\n",
    "\n",
    "n1A, n1B, n1C, n1D, n1E, n0A, n0B, n0C, n0D, n0E = count_EthnicGroup_type(df_test_results)\n",
    "\n",
    "def compute_expectations_EthnicGroup(df):\n",
    "    n1A, n1B, n1C, n1D, n1E, n0A, n0B, n0C, n0D, n0E = count_EthnicGroup_type(df)\n",
    "    n = df.shape[0]\n",
    "\n",
    "    nA = n1A+n0A\n",
    "    nB = n1B+n0B\n",
    "    nC = n1C+n0C\n",
    "    nD = n1D+n0D\n",
    "    nE = n1E+n0E\n",
    "\n",
    "    n1 = n1A+n1B+n1C+n1D+n1E\n",
    "    n0 = n0A+n0B+n0C+n0D+n0E\n",
    "\n",
    "    E1A = nA*n1/n\n",
    "    E1B = nB*n1/n\n",
    "    E1C = nC*n1/n\n",
    "    E1D = nD*n1/n\n",
    "    E1E = nE*n1/n\n",
    "\n",
    "    E0A = nA*n0/n\n",
    "    E0B = nB*n0/n\n",
    "    E0C = nC*n0/n\n",
    "    E0D = nD*n0/n\n",
    "    E0E = nE*n0/n\n",
    "\n",
    "    return E1A, E1B, E1C, E1D, E1E, E0A, E0B, E0C, E0D, E0E\n",
    "\n",
    "def compute_test_statistic_ethnicgroup(df): \n",
    "    n1A, n1B, n1C, n1D, n1E, n0A, n0B, n0C, n0D, n0E = count_EthnicGroup_type(df)\n",
    "    E1A, E1B, E1C, E1D, E1E, E0A, E0B, E0C, E0D, E0E = compute_expectations_EthnicGroup(df)\n",
    "\n",
    "    termA1 = (n1A - E1A)**2 / E1A\n",
    "    termB1 = (n1B - E1B)**2 / E1B\n",
    "    termC1 = (n1C - E1C)**2 / E1C\n",
    "    termD1 = (n1D - E1D)**2 / E1D\n",
    "    termE1 = (n1E - E1E)**2 / E1E\n",
    "\n",
    "    termA0 = (n0A - E0A)**2 / E0A\n",
    "    termB0 = (n0B - E0B)**2 / E0B\n",
    "    termC0 = (n0C - E0C)**2 / E0C\n",
    "    termD0 = (n0D - E0D)**2 / E0D\n",
    "    termE0 = (n0E - E0E)**2 / E0E\n",
    " \n",
    "    chi2 = termA1 + termB1 + termC1 + termD1 + termE1 + termA0 + termB0 + termC0 + termD0 + termE0\n",
    "    return chi2\n",
    "\n",
    "n1f, n0f, n1m, n0m = count_gender_type(df_test_results)\n",
    "E1f, E0f, E1m, E0m = compute_expectations(df_test_results)\n",
    "\n",
    "n1A, n1B, n1C, n1D, n1E, n0A, n0B, n0C, n0D, n0E = count_EthnicGroup_type(df_test_results)\n",
    "E1A, E1B, E1C, E1D, E1E, E0A, E0B, E0C, E0D, E0E = compute_expectations_EthnicGroup(df_test_results)\n",
    "chi2 = compute_test_statistic_ethnicgroup(df_test_results)\n",
    "\n",
    "print('total students : ', df_test_results.shape[0])\n",
    "print(\"Total 1 y_pred : \", n1f+n1m)\n",
    "print(\"Total 0 y_pred : \", n0f+n0m)\n",
    "print(\"Total group A : \", n1A+n0A)\n",
    "print(\"Total group B : \", n1B+n0B)\n",
    "print(\"Total group C : \", n1C+n0C)\n",
    "print(\"Total group D : \", n1D+n0D)\n",
    "print(\"Total group E : \", n1E+n0E)\n",
    "print('\\n')\n",
    "\n",
    "print('n1A:', n1A)\n",
    "print('n1B:', n1B)\n",
    "print('n1C:', n1C)\n",
    "print('n1D:', n1D)\n",
    "print('n1E:', n1E)\n",
    "\n",
    "print('\\n')\n",
    "\n",
    "print('n0A:', n0A)\n",
    "print('n0B:', n0B)\n",
    "print('n0C:', n0C)\n",
    "print('n0D:', n0D)\n",
    "print('n0E:', n0E)\n"
   ]
  },
  {
   "cell_type": "code",
   "execution_count": 53,
   "metadata": {},
   "outputs": [
    {
     "name": "stdout",
     "output_type": "stream",
     "text": [
      "\n",
      "\n",
      "E1A: 58.99\n",
      "E1B: 161.65\n",
      "E1C: 317.52\n",
      "E1D: 204.3\n",
      "E1E: 115.54\n",
      "\n",
      "\n",
      "E0A: 573.01\n",
      "E0B: 1570.35\n",
      "E0C: 3084.48\n",
      "E0D: 1984.7\n",
      "E0E: 1122.46\n",
      "\n",
      "\n",
      "Test statistic value :  654.2634251744396\n"
     ]
    }
   ],
   "source": [
    "print('\\n')\n",
    "\n",
    "print('E1A:', np.round(E1A, 2))\n",
    "print('E1B:', np.round(E1B, 2))\n",
    "print('E1C:', np.round(E1C, 2))\n",
    "print('E1D:', np.round(E1D, 2))\n",
    "print('E1E:', np.round(E1E, 2))\n",
    "print('\\n')\n",
    "\n",
    "print('E0A:', np.round(E0A, 2))\n",
    "print('E0B:', np.round(E0B, 2))\n",
    "print('E0C:', np.round(E0C, 2))\n",
    "print('E0D:', np.round(E0D, 2))\n",
    "print('E0E:', np.round(E0E, 2))\n",
    "\n",
    "print('\\n')\n",
    "print(\"Test statistic value : \", chi2)"
   ]
  },
  {
   "cell_type": "markdown",
   "metadata": {},
   "source": [
    "We obtain $\\chi^2_{SP} = 654.26$  , we then reject this hypothesis and consider that the model is biaised regarding gender, from the statistical parity definition."
   ]
  },
  {
   "cell_type": "markdown",
   "metadata": {},
   "source": [
    "### 2. Assess model fairness using conditional statistical parity definition of fairness \n",
    "\n",
    "The independence assumption for **Conditional statistical parity** is :  $H_0 : (\\hat{Y}⫫G)|X $  . \n",
    "                                \n",
    "For X partitioned in S subgroups, the test statistic statified is : \n",
    "\n",
    "$$\\chi^2_{CSP} = \\sum_{s=1}^S \\chi^2_{SP}(s)$$\n",
    "\n",
    "where each component of the sum denotes the test statistic obtained for the subgroup s. Under the null hypothesis, this test statistic has S degree of freedom."
   ]
  },
  {
   "cell_type": "code",
   "execution_count": 57,
   "metadata": {},
   "outputs": [
    {
     "data": {
      "text/plain": [
       "Index(['Gender', 'EthnicGroup', 'ParentEduc', 'LunchType', 'TestPrep',\n",
       "       'ParentMaritalStatus', 'PracticeSport', 'IsFirstChild', 'NrSiblings',\n",
       "       'School_Bus', 'WklyStudyHours', 'y_pred'],\n",
       "      dtype='object')"
      ]
     },
     "execution_count": 57,
     "metadata": {},
     "output_type": "execute_result"
    }
   ],
   "source": [
    "df_test_results.columns"
   ]
  },
  {
   "cell_type": "markdown",
   "metadata": {},
   "source": [
    "First step, create the groups."
   ]
  },
  {
   "cell_type": "code",
   "execution_count": 78,
   "metadata": {},
   "outputs": [
    {
     "name": "stderr",
     "output_type": "stream",
     "text": [
      "/Users/vitrac/Library/Python/3.8/lib/python/site-packages/sklearn/cluster/_kmeans.py:1416: FutureWarning: The default value of `n_init` will change from 10 to 'auto' in 1.4. Set the value of `n_init` explicitly to suppress the warning\n",
      "  super()._check_params_vs_input(X, default_n_init=10)\n"
     ]
    },
    {
     "name": "stdout",
     "output_type": "stream",
     "text": [
      "Counts in each cluster:\n",
      "cluster\n",
      "1    3549\n",
      "2    3049\n",
      "0    2595\n",
      "Name: count, dtype: int64\n"
     ]
    }
   ],
   "source": [
    "from sklearn.cluster import KMeans\n",
    "\n",
    "# Assuming X is your feature matrix (without the target variable)\n",
    "X = df_test_results.drop(columns=['y_pred'])  # Replace 'target_variable' with the actual name of your target variable\n",
    "\n",
    "# Apply a numerical mapping for categorical columns\n",
    "categorical_mapping = {\n",
    "    'Gender': {'female': 0, 'male': 1},\n",
    "    'EthnicGroup': {'group A': 0, 'group B': 1, 'group C': 2, 'group D': 3, 'group E': 4},\n",
    "    'ParentEduc': {'some high school': 0, 'high school': 1, \"associate's degree\": 2, 'some college': 3, \"bachelor's degree\": 4, \"master's degree\": 5},\n",
    "    'LunchType': {'standard': 0, 'free/reduced': 1},\n",
    "    'ParentMaritalStatus': {'widowed': 0, 'divorced': 1, 'single': 2, 'married': 3},\n",
    "    'PracticeSport': {'sometimes': 0, 'regularly': 1, 'never': 2},\n",
    "    'WklyStudyHours': {'Less than 5 hours': 0, 'Between 5-10 hours': 1, 'More than 10 hours': 2}\n",
    "}\n",
    "\n",
    "columns_to_map = list(categorical_mapping.keys())\n",
    "X[columns_to_map] = X[columns_to_map].replace(categorical_mapping)\n",
    "\n",
    "# Choose the number of groups (clusters)\n",
    "n_clusters = 3\n",
    "\n",
    "# Fit K-Means clustering model\n",
    "kmeans = KMeans(n_clusters=n_clusters)\n",
    "X['cluster'] = kmeans.fit_predict(X)\n",
    "\n",
    "# Print the counts in each cluster\n",
    "print(\"Counts in each cluster:\")\n",
    "print(X['cluster'].value_counts())\n"
   ]
  },
  {
   "cell_type": "code",
   "execution_count": 79,
   "metadata": {},
   "outputs": [
    {
     "data": {
      "image/png": "[encoded data removed]",
      "text/plain": [
       "<Figure size 640x480 with 1 Axes>"
      ]
     },
     "metadata": {},
     "output_type": "display_data"
    },
    {
     "data": {
      "image/png": "[encoded data removed]",
      "text/plain": [
       "<Figure size 640x480 with 1 Axes>"
      ]
     },
     "metadata": {},
     "output_type": "display_data"
    }
   ],
   "source": [
    "import seaborn as sns\n",
    "import matplotlib.pyplot as plt\n",
    "\n",
    "# Calculate the total counts for each cluster\n",
    "cluster_counts = df_test_results['cluster'].value_counts()\n",
    "\n",
    "sns.countplot(x='cluster', hue='y_pred', data=df_test_results)\n",
    "plt.title('Distribution of y_pred in Each Cluster')\n",
    "plt.show()\n",
    "\n",
    "# Plot the distribution of 'Gender' for each cluster in percentage\n",
    "sns.countplot(x='cluster', hue='Gender', data=df_test_results)\n",
    "plt.title('Distribution of Gender in Each Cluster')\n",
    "plt.show()\n"
   ]
  },
  {
   "cell_type": "code",
   "execution_count": 85,
   "metadata": {},
   "outputs": [],
   "source": [
    "X['y_pred'] = y_pred_blackbox_test\n",
    "df_cluster1 = X[X['cluster']==0]\n",
    "df_cluster2 = X[X['cluster']==1]\n",
    "df_cluster3 = X[X['cluster']==2]\n",
    "\n"
   ]
  },
  {
   "cell_type": "code",
   "execution_count": 88,
   "metadata": {},
   "outputs": [
    {
     "data": {
      "text/plain": [
       "Gender\n",
       "0    1335\n",
       "1    1260\n",
       "Name: count, dtype: int64"
      ]
     },
     "execution_count": 88,
     "metadata": {},
     "output_type": "execute_result"
    }
   ],
   "source": [
    "df_cluster1.Gender.value_counts()"
   ]
  },
  {
   "cell_type": "code",
   "execution_count": 92,
   "metadata": {},
   "outputs": [
    {
     "name": "stdout",
     "output_type": "stream",
     "text": [
      "Test statistic value for cluster 1:  63.54170277213671\n",
      "Test statistic value for cluster 2:  61.95934636022599\n",
      "Test statistic value for cluster 3:  105.5712318758792\n",
      "Total chi : 231.07228100824193\n"
     ]
    }
   ],
   "source": [
    "def count_gender_type(df):\n",
    "    df_male = df[df['Gender'] == 0]\n",
    "    df_female = df[df['Gender'] == 1]\n",
    "    n1m = df_male[df_male['y_pred']==1].shape[0]\n",
    "    n0m = df_male[df_male['y_pred']==0].shape[0]\n",
    "    n1f = df_female[df_female['y_pred']==1].shape[0]\n",
    "    n0f = df_female[df_female['y_pred']==0].shape[0]\n",
    "    return n1f, n0f, n1m, n0m\n",
    "\n",
    "def compute_expectations(df):\n",
    "    n1f, n0f, n1m, n0m = count_gender_type(df)\n",
    "    n = df.shape[0]\n",
    "    nf = n1f+n0f\n",
    "    nm = n1m+n0m\n",
    "    n1 = n1f+n1m\n",
    "    n0 = n0f+n0m\n",
    "\n",
    "    E1f = nf*n1/n\n",
    "    E0f = n0f*n0/n\n",
    "    \n",
    "    E1m = nm*n1/n\n",
    "    E0m = nm*n0/n\n",
    "    return E1f, E0f, E1m, E0m\n",
    "\n",
    "def compute_test_statistic(df): \n",
    "    n1f, n0f, n1m, n0m = count_gender_type(df)\n",
    "    E1f, E0f, E1m, E0m = compute_expectations(df)\n",
    "    chi2 = (n1f - E1f)**2 / E1f + (n0f - E0f)**2 / E0f + (n1m - E1m)**2 / E1m + (n0m - E0m)**2 / E0m \n",
    "    return chi2\n",
    "\n",
    "\n",
    "chi2_cluster1 = compute_test_statistic(df_cluster1)\n",
    "print(\"Test statistic value for cluster 1: \", chi2_cluster1)\n",
    "\n",
    "chi2_cluster2 = compute_test_statistic(df_cluster2)\n",
    "print(\"Test statistic value for cluster 2: \", chi2_cluster2)\n",
    "\n",
    "chi2_cluster3 = compute_test_statistic(df_cluster3)\n",
    "print(\"Test statistic value for cluster 3: \", chi2_cluster3)\n",
    "\n",
    "print(\"Total chi :\", chi2_cluster1+chi2_cluster2+chi2_cluster3)"
   ]
  },
  {
   "cell_type": "markdown",
   "metadata": {},
   "source": [
    "$\\chi^2_{cluster1} = 63.54$\n",
    "\n",
    "$\\chi^2_{cluster2} = 61.96$\n",
    "\n",
    "$\\chi^2_{cluster3} = 05.57$\n",
    "\n",
    "$\\chi^2_{CSP, genre} = 231.07$"
   ]
  },
  {
   "cell_type": "code",
   "execution_count": 93,
   "metadata": {},
   "outputs": [
    {
     "name": "stdout",
     "output_type": "stream",
     "text": [
      "La valeur de chi2_{1-alpha, 3} est : 7.814727903251179\n"
     ]
    }
   ],
   "source": [
    "from scipy.stats import chi2\n",
    "\n",
    "# Spécifiez le niveau de signification alpha et les degrés de liberté S\n",
    "alpha = 0.05\n",
    "S = 3  # Remplacez ceci par le nombre réel de degrés de liberté\n",
    "\n",
    "# Calculez la valeur de chi2_{1-alpha, S}\n",
    "chi2_1_minus_alpha_S = chi2.ppf(1 - alpha, df=S)\n",
    "\n",
    "print(f\"La valeur de chi2_{{1-alpha, {S}}} est : {chi2_1_minus_alpha_S}\")\n"
   ]
  },
  {
   "cell_type": "markdown",
   "metadata": {},
   "source": [
    "The null hypothesis is therefore rejected, and the model is biased.\n",
    "Now let's look at what we get for ethnic groups."
   ]
  },
  {
   "cell_type": "code",
   "execution_count": 96,
   "metadata": {},
   "outputs": [
    {
     "data": {
      "text/plain": [
       "EthnicGroup\n",
       "2    945\n",
       "3    635\n",
       "1    477\n",
       "4    353\n",
       "0    185\n",
       "Name: count, dtype: int64"
      ]
     },
     "execution_count": 96,
     "metadata": {},
     "output_type": "execute_result"
    }
   ],
   "source": [
    "df_cluster1.EthnicGroup.value_counts()"
   ]
  },
  {
   "cell_type": "code",
   "execution_count": 98,
   "metadata": {},
   "outputs": [
    {
     "name": "stdout",
     "output_type": "stream",
     "text": [
      "Test statistic value for cluster 1:  148.68075468876714\n",
      "Test statistic value for cluster 2:  410.3579129515436\n",
      "Test statistic value for cluster 3:  215.57557874568718\n",
      "Total chi : 774.6142463859978\n"
     ]
    }
   ],
   "source": [
    "def count_EthnicGroup_type(df):\n",
    "\n",
    "    df_A = df[df['EthnicGroup'] == 0]\n",
    "    df_B = df[df['EthnicGroup'] == 1]\n",
    "    df_C = df[df['EthnicGroup'] == 2]\n",
    "    df_D = df[df['EthnicGroup'] == 3]\n",
    "    df_E = df[df['EthnicGroup'] == 4]\n",
    "\n",
    "    n1A = df_A[df_A['y_pred']==1].shape[0]\n",
    "    n1B = df_B[df_B['y_pred']==1].shape[0]\n",
    "    n1C = df_C[df_C['y_pred']==1].shape[0]\n",
    "    n1D = df_D[df_D['y_pred']==1].shape[0]\n",
    "    n1E = df_E[df_E['y_pred']==1].shape[0]\n",
    "\n",
    "    n0A = df_A[df_A['y_pred']==0].shape[0]\n",
    "    n0B = df_B[df_B['y_pred']==0].shape[0]\n",
    "    n0C = df_C[df_C['y_pred']==0].shape[0]\n",
    "    n0D = df_D[df_D['y_pred']==0].shape[0]\n",
    "    n0E = df_E[df_E['y_pred']==0].shape[0]\n",
    "\n",
    "    return n1A, n1B, n1C, n1D, n1E, n0A, n0B, n0C, n0D, n0E\n",
    "\n",
    "def compute_expectations_EthnicGroup(df):\n",
    "    n1A, n1B, n1C, n1D, n1E, n0A, n0B, n0C, n0D, n0E = count_EthnicGroup_type(df)\n",
    "    n = df.shape[0]\n",
    "\n",
    "    nA = n1A+n0A\n",
    "    nB = n1B+n0B\n",
    "    nC = n1C+n0C\n",
    "    nD = n1D+n0D\n",
    "    nE = n1E+n0E\n",
    "\n",
    "    n1 = n1A+n1B+n1C+n1D+n1E\n",
    "    n0 = n0A+n0B+n0C+n0D+n0E\n",
    "\n",
    "    E1A = nA*n1/n\n",
    "    E1B = nB*n1/n\n",
    "    E1C = nC*n1/n\n",
    "    E1D = nD*n1/n\n",
    "    E1E = nE*n1/n\n",
    "\n",
    "    E0A = nA*n0/n\n",
    "    E0B = nB*n0/n\n",
    "    E0C = nC*n0/n\n",
    "    E0D = nD*n0/n\n",
    "    E0E = nE*n0/n\n",
    "\n",
    "    return E1A, E1B, E1C, E1D, E1E, E0A, E0B, E0C, E0D, E0E\n",
    "\n",
    "def compute_test_statistic_ethnicgroup(df): \n",
    "    n1A, n1B, n1C, n1D, n1E, n0A, n0B, n0C, n0D, n0E = count_EthnicGroup_type(df)\n",
    "    E1A, E1B, E1C, E1D, E1E, E0A, E0B, E0C, E0D, E0E = compute_expectations_EthnicGroup(df)\n",
    "\n",
    "    termA1 = (n1A - E1A)**2 / E1A\n",
    "    termB1 = (n1B - E1B)**2 / E1B\n",
    "    termC1 = (n1C - E1C)**2 / E1C\n",
    "    termD1 = (n1D - E1D)**2 / E1D\n",
    "    termE1 = (n1E - E1E)**2 / E1E\n",
    "\n",
    "    termA0 = (n0A - E0A)**2 / E0A\n",
    "    termB0 = (n0B - E0B)**2 / E0B\n",
    "    termC0 = (n0C - E0C)**2 / E0C\n",
    "    termD0 = (n0D - E0D)**2 / E0D\n",
    "    termE0 = (n0E - E0E)**2 / E0E\n",
    " \n",
    "    chi2 = termA1 + termB1 + termC1 + termD1 + termE1 + termA0 + termB0 + termC0 + termD0 + termE0\n",
    "    return chi2\n",
    "\n",
    "chi2_cluster1 = compute_test_statistic_ethnicgroup(df_cluster1)\n",
    "print(\"Test statistic value for cluster 1: \", chi2_cluster1)\n",
    "\n",
    "chi2_cluster2 = compute_test_statistic_ethnicgroup(df_cluster2)\n",
    "print(\"Test statistic value for cluster 2: \", chi2_cluster2)\n",
    "\n",
    "chi2_cluster3 = compute_test_statistic_ethnicgroup(df_cluster3)\n",
    "print(\"Test statistic value for cluster 3: \", chi2_cluster3)\n",
    "\n",
    "print(\"Total chi :\", chi2_cluster1+chi2_cluster2+chi2_cluster3)\n"
   ]
  },
  {
   "cell_type": "markdown",
   "metadata": {},
   "source": [
    "$\\chi^2_{cluster1} = 148.68$\n",
    "\n",
    "$\\chi^2_{cluster2} = 410.36$\n",
    "\n",
    "$\\chi^2_{cluster3} = 215.58$\n",
    "\n",
    "$\\chi^2_{CSP, ethnic} = 774.61$\n",
    "\n",
    "Again : rejected hypothesis."
   ]
  },
  {
   "cell_type": "markdown",
   "metadata": {},
   "source": []
  }
 ],
 "metadata": {
  "kernelspec": {
   "display_name": "Python 3",
   "language": "python",
   "name": "python3"
  },
  "language_info": {
   "codemirror_mode": {
    "name": "ipython",
    "version": 3
   },
   "file_extension": ".py",
   "mimetype": "text/x-python",
   "name": "python",
   "nbconvert_exporter": "python",
   "pygments_lexer": "ipython3",
   "version": "3.8.9"
  }
 },
 "nbformat": 4,
 "nbformat_minor": 2
}
